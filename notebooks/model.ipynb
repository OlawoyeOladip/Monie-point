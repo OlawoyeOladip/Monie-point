{
 "cells": [
  {
   "cell_type": "code",
   "execution_count": 2,
   "id": "d7b030ec",
   "metadata": {},
   "outputs": [],
   "source": [
    "from pyod.models.iforest import IForest\n",
    "import numpy as np\n",
    "import pandas as pd \n",
    "import seaborn as sns \n",
    "import shap\n",
    "from sklearn.ensemble import RandomForestClassifier, IsolationForest\n",
    "from sklearn.metrics import classification_report, confusion_matrix"
   ]
  },
  {
   "cell_type": "code",
   "execution_count": 5,
   "id": "53d2fbd9",
   "metadata": {},
   "outputs": [
    {
     "data": {
      "application/vnd.microsoft.datawrangler.viewer.v0+json": {
       "columns": [
        {
         "name": "index",
         "rawType": "int64",
         "type": "integer"
        },
        {
         "name": "row_id",
         "rawType": "int64",
         "type": "integer"
        },
        {
         "name": "original_log",
         "rawType": "object",
         "type": "string"
        },
        {
         "name": "datetime",
         "rawType": "object",
         "type": "string"
        },
        {
         "name": "user_id",
         "rawType": "object",
         "type": "string"
        },
        {
         "name": "transaction_type",
         "rawType": "object",
         "type": "string"
        },
        {
         "name": "amount",
         "rawType": "float64",
         "type": "float"
        },
        {
         "name": "currency",
         "rawType": "object",
         "type": "string"
        },
        {
         "name": "location",
         "rawType": "object",
         "type": "string"
        },
        {
         "name": "device",
         "rawType": "object",
         "type": "string"
        }
       ],
       "ref": "57c381a8-6c00-41f5-8ba7-84ab1ff6ac7d",
       "rows": [
        [
         "0",
         "1",
         "2025-07-05 19:18:10::user1069::withdrawal::2995.12::London::iPhone 13",
         "2025-07-05 19:18:10",
         "user1069",
         "withdrawal",
         "2995.12",
         "GBP",
         "London",
         "iPhone 13"
        ],
        [
         "1",
         "2",
         "usr:user1076|cashout|€4821.85|Glasgow|2025-07-15 12:56:05|Pixel 6",
         "2025-07-15 12:56:05",
         "user1076",
         "cashout",
         "4821.85",
         "EUR",
         "Glasgow",
         "Pixel 6"
        ],
        [
         "2",
         "3",
         "2025-07-20 05:38:14 >> [user1034] did top-up - amt=€2191.06 - None // dev:iPhone 13",
         "2025-07-20 05:38:14",
         "user1034",
         "top_up",
         "2191.06",
         "EUR",
         "Unknown",
         "iPhone 13"
        ],
        [
         "3",
         "4",
         "2025-06-13 10:04:51 >> [user1068] did deposit - amt=€1691.09 - Glasgow // dev:None",
         "2025-06-13 10:04:51",
         "user1068",
         "deposit",
         "1691.09",
         "EUR",
         "Glasgow",
         "Unknown"
        ],
        [
         "4",
         "5",
         "2025-07-29 23:47:37 | user: user1014 | txn: deposit of £3539.5 from Glasgow | device: iPhone 13",
         "2025-07-29 23:47:37",
         "user1014",
         "deposit",
         "3539.5",
         "GBP",
         "Glasgow",
         "iPhone 13"
        ]
       ],
       "shape": {
        "columns": 9,
        "rows": 5
       }
      },
      "text/html": [
       "<div>\n",
       "<style scoped>\n",
       "    .dataframe tbody tr th:only-of-type {\n",
       "        vertical-align: middle;\n",
       "    }\n",
       "\n",
       "    .dataframe tbody tr th {\n",
       "        vertical-align: top;\n",
       "    }\n",
       "\n",
       "    .dataframe thead th {\n",
       "        text-align: right;\n",
       "    }\n",
       "</style>\n",
       "<table border=\"1\" class=\"dataframe\">\n",
       "  <thead>\n",
       "    <tr style=\"text-align: right;\">\n",
       "      <th></th>\n",
       "      <th>row_id</th>\n",
       "      <th>original_log</th>\n",
       "      <th>datetime</th>\n",
       "      <th>user_id</th>\n",
       "      <th>transaction_type</th>\n",
       "      <th>amount</th>\n",
       "      <th>currency</th>\n",
       "      <th>location</th>\n",
       "      <th>device</th>\n",
       "    </tr>\n",
       "  </thead>\n",
       "  <tbody>\n",
       "    <tr>\n",
       "      <th>0</th>\n",
       "      <td>1</td>\n",
       "      <td>2025-07-05 19:18:10::user1069::withdrawal::299...</td>\n",
       "      <td>2025-07-05 19:18:10</td>\n",
       "      <td>user1069</td>\n",
       "      <td>withdrawal</td>\n",
       "      <td>2995.12</td>\n",
       "      <td>GBP</td>\n",
       "      <td>London</td>\n",
       "      <td>iPhone 13</td>\n",
       "    </tr>\n",
       "    <tr>\n",
       "      <th>1</th>\n",
       "      <td>2</td>\n",
       "      <td>usr:user1076|cashout|€4821.85|Glasgow|2025-07-...</td>\n",
       "      <td>2025-07-15 12:56:05</td>\n",
       "      <td>user1076</td>\n",
       "      <td>cashout</td>\n",
       "      <td>4821.85</td>\n",
       "      <td>EUR</td>\n",
       "      <td>Glasgow</td>\n",
       "      <td>Pixel 6</td>\n",
       "    </tr>\n",
       "    <tr>\n",
       "      <th>2</th>\n",
       "      <td>3</td>\n",
       "      <td>2025-07-20 05:38:14 &gt;&gt; [user1034] did top-up -...</td>\n",
       "      <td>2025-07-20 05:38:14</td>\n",
       "      <td>user1034</td>\n",
       "      <td>top_up</td>\n",
       "      <td>2191.06</td>\n",
       "      <td>EUR</td>\n",
       "      <td>Unknown</td>\n",
       "      <td>iPhone 13</td>\n",
       "    </tr>\n",
       "    <tr>\n",
       "      <th>3</th>\n",
       "      <td>4</td>\n",
       "      <td>2025-06-13 10:04:51 &gt;&gt; [user1068] did deposit ...</td>\n",
       "      <td>2025-06-13 10:04:51</td>\n",
       "      <td>user1068</td>\n",
       "      <td>deposit</td>\n",
       "      <td>1691.09</td>\n",
       "      <td>EUR</td>\n",
       "      <td>Glasgow</td>\n",
       "      <td>Unknown</td>\n",
       "    </tr>\n",
       "    <tr>\n",
       "      <th>4</th>\n",
       "      <td>5</td>\n",
       "      <td>2025-07-29 23:47:37 | user: user1014 | txn: de...</td>\n",
       "      <td>2025-07-29 23:47:37</td>\n",
       "      <td>user1014</td>\n",
       "      <td>deposit</td>\n",
       "      <td>3539.50</td>\n",
       "      <td>GBP</td>\n",
       "      <td>Glasgow</td>\n",
       "      <td>iPhone 13</td>\n",
       "    </tr>\n",
       "  </tbody>\n",
       "</table>\n",
       "</div>"
      ],
      "text/plain": [
       "   row_id  ...     device\n",
       "0       1  ...  iPhone 13\n",
       "1       2  ...    Pixel 6\n",
       "2       3  ...  iPhone 13\n",
       "3       4  ...    Unknown\n",
       "4       5  ...  iPhone 13\n",
       "\n",
       "[5 rows x 9 columns]"
      ]
     },
     "execution_count": 5,
     "metadata": {},
     "output_type": "execute_result"
    }
   ],
   "source": [
    "df = pd.read_csv(r\"C:\\Users\\user\\Desktop\\moniepoint\\artifacts\\data_ingestion\\cleaned_anomaly_detection.csv\")\n",
    "df.head()"
   ]
  },
  {
   "cell_type": "code",
   "execution_count": 6,
   "id": "eee1fd23",
   "metadata": {},
   "outputs": [
    {
     "data": {
      "application/vnd.microsoft.datawrangler.viewer.v0+json": {
       "columns": [
        {
         "name": "index",
         "rawType": "int64",
         "type": "integer"
        },
        {
         "name": "datetime",
         "rawType": "object",
         "type": "string"
        },
        {
         "name": "user_id",
         "rawType": "object",
         "type": "string"
        },
        {
         "name": "transaction_type",
         "rawType": "object",
         "type": "string"
        },
        {
         "name": "amount",
         "rawType": "float64",
         "type": "float"
        },
        {
         "name": "currency",
         "rawType": "object",
         "type": "string"
        },
        {
         "name": "location",
         "rawType": "object",
         "type": "string"
        },
        {
         "name": "device",
         "rawType": "object",
         "type": "string"
        }
       ],
       "ref": "dfa940f7-5ee5-48c7-97d0-41e61b62e246",
       "rows": [
        [
         "0",
         "2025-07-05 19:18:10",
         "user1069",
         "withdrawal",
         "2995.12",
         "GBP",
         "London",
         "iPhone 13"
        ],
        [
         "1",
         "2025-07-15 12:56:05",
         "user1076",
         "cashout",
         "4821.85",
         "EUR",
         "Glasgow",
         "Pixel 6"
        ],
        [
         "2",
         "2025-07-20 05:38:14",
         "user1034",
         "top_up",
         "2191.06",
         "EUR",
         "Unknown",
         "iPhone 13"
        ],
        [
         "3",
         "2025-06-13 10:04:51",
         "user1068",
         "deposit",
         "1691.09",
         "EUR",
         "Glasgow",
         "Unknown"
        ],
        [
         "4",
         "2025-07-29 23:47:37",
         "user1014",
         "deposit",
         "3539.5",
         "GBP",
         "Glasgow",
         "iPhone 13"
        ]
       ],
       "shape": {
        "columns": 7,
        "rows": 5
       }
      },
      "text/html": [
       "<div>\n",
       "<style scoped>\n",
       "    .dataframe tbody tr th:only-of-type {\n",
       "        vertical-align: middle;\n",
       "    }\n",
       "\n",
       "    .dataframe tbody tr th {\n",
       "        vertical-align: top;\n",
       "    }\n",
       "\n",
       "    .dataframe thead th {\n",
       "        text-align: right;\n",
       "    }\n",
       "</style>\n",
       "<table border=\"1\" class=\"dataframe\">\n",
       "  <thead>\n",
       "    <tr style=\"text-align: right;\">\n",
       "      <th></th>\n",
       "      <th>datetime</th>\n",
       "      <th>user_id</th>\n",
       "      <th>transaction_type</th>\n",
       "      <th>amount</th>\n",
       "      <th>currency</th>\n",
       "      <th>location</th>\n",
       "      <th>device</th>\n",
       "    </tr>\n",
       "  </thead>\n",
       "  <tbody>\n",
       "    <tr>\n",
       "      <th>0</th>\n",
       "      <td>2025-07-05 19:18:10</td>\n",
       "      <td>user1069</td>\n",
       "      <td>withdrawal</td>\n",
       "      <td>2995.12</td>\n",
       "      <td>GBP</td>\n",
       "      <td>London</td>\n",
       "      <td>iPhone 13</td>\n",
       "    </tr>\n",
       "    <tr>\n",
       "      <th>1</th>\n",
       "      <td>2025-07-15 12:56:05</td>\n",
       "      <td>user1076</td>\n",
       "      <td>cashout</td>\n",
       "      <td>4821.85</td>\n",
       "      <td>EUR</td>\n",
       "      <td>Glasgow</td>\n",
       "      <td>Pixel 6</td>\n",
       "    </tr>\n",
       "    <tr>\n",
       "      <th>2</th>\n",
       "      <td>2025-07-20 05:38:14</td>\n",
       "      <td>user1034</td>\n",
       "      <td>top_up</td>\n",
       "      <td>2191.06</td>\n",
       "      <td>EUR</td>\n",
       "      <td>Unknown</td>\n",
       "      <td>iPhone 13</td>\n",
       "    </tr>\n",
       "    <tr>\n",
       "      <th>3</th>\n",
       "      <td>2025-06-13 10:04:51</td>\n",
       "      <td>user1068</td>\n",
       "      <td>deposit</td>\n",
       "      <td>1691.09</td>\n",
       "      <td>EUR</td>\n",
       "      <td>Glasgow</td>\n",
       "      <td>Unknown</td>\n",
       "    </tr>\n",
       "    <tr>\n",
       "      <th>4</th>\n",
       "      <td>2025-07-29 23:47:37</td>\n",
       "      <td>user1014</td>\n",
       "      <td>deposit</td>\n",
       "      <td>3539.50</td>\n",
       "      <td>GBP</td>\n",
       "      <td>Glasgow</td>\n",
       "      <td>iPhone 13</td>\n",
       "    </tr>\n",
       "  </tbody>\n",
       "</table>\n",
       "</div>"
      ],
      "text/plain": [
       "              datetime   user_id transaction_type  ...  currency location     device\n",
       "0  2025-07-05 19:18:10  user1069       withdrawal  ...       GBP   London  iPhone 13\n",
       "1  2025-07-15 12:56:05  user1076          cashout  ...       EUR  Glasgow    Pixel 6\n",
       "2  2025-07-20 05:38:14  user1034           top_up  ...       EUR  Unknown  iPhone 13\n",
       "3  2025-06-13 10:04:51  user1068          deposit  ...       EUR  Glasgow    Unknown\n",
       "4  2025-07-29 23:47:37  user1014          deposit  ...       GBP  Glasgow  iPhone 13\n",
       "\n",
       "[5 rows x 7 columns]"
      ]
     },
     "execution_count": 6,
     "metadata": {},
     "output_type": "execute_result"
    }
   ],
   "source": [
    "df = df.iloc[:, 2:]\n",
    "df.head()"
   ]
  },
  {
   "cell_type": "code",
   "execution_count": 9,
   "id": "e1c1b292",
   "metadata": {},
   "outputs": [
    {
     "data": {
      "text/plain": [
       "'c:\\\\Users\\\\user\\\\Desktop\\\\moniepoint'"
      ]
     },
     "execution_count": 9,
     "metadata": {},
     "output_type": "execute_result"
    }
   ],
   "source": [
    "import os\n",
    "os.chdir(\"../\")\n",
    "\n",
    "%pwd"
   ]
  },
  {
   "cell_type": "code",
   "execution_count": 10,
   "id": "027584e3",
   "metadata": {},
   "outputs": [],
   "source": [
    "from features.feature_engineering import FeatureEngineer\n",
    "import matplotlib.pyplot as plt  \n",
    "from sklearn.cluster import DBSCAN\n",
    "from sklearn.preprocessing import MinMaxScaler"
   ]
  },
  {
   "cell_type": "code",
   "execution_count": 11,
   "id": "9e8dba15",
   "metadata": {},
   "outputs": [],
   "source": [
    "df = FeatureEngineer(df).engineer_batch()"
   ]
  },
  {
   "cell_type": "code",
   "execution_count": 13,
   "id": "3d81de64",
   "metadata": {},
   "outputs": [
    {
     "name": "stdout",
     "output_type": "stream",
     "text": [
      "(7774, 23)\n"
     ]
    }
   ],
   "source": [
    "print(df.shape)"
   ]
  },
  {
   "cell_type": "code",
   "execution_count": 14,
   "id": "ecb7b53e",
   "metadata": {},
   "outputs": [
    {
     "data": {
      "application/vnd.microsoft.datawrangler.viewer.v0+json": {
       "columns": [
        {
         "name": "index",
         "rawType": "int64",
         "type": "integer"
        },
        {
         "name": "datetime",
         "rawType": "datetime64[ns]",
         "type": "datetime"
        },
        {
         "name": "user_id",
         "rawType": "object",
         "type": "string"
        },
        {
         "name": "transaction_type",
         "rawType": "object",
         "type": "string"
        },
        {
         "name": "amount",
         "rawType": "float64",
         "type": "float"
        },
        {
         "name": "currency",
         "rawType": "object",
         "type": "string"
        },
        {
         "name": "location",
         "rawType": "object",
         "type": "string"
        },
        {
         "name": "device",
         "rawType": "object",
         "type": "string"
        },
        {
         "name": "day_of_week",
         "rawType": "int32",
         "type": "integer"
        },
        {
         "name": "hour_of_day",
         "rawType": "int32",
         "type": "integer"
        },
        {
         "name": "month",
         "rawType": "int32",
         "type": "integer"
        },
        {
         "name": "quarter",
         "rawType": "int32",
         "type": "integer"
        },
        {
         "name": "is_weekend",
         "rawType": "bool",
         "type": "boolean"
        },
        {
         "name": "day_of_month",
         "rawType": "int32",
         "type": "integer"
        },
        {
         "name": "is_business_hours",
         "rawType": "bool",
         "type": "boolean"
        },
        {
         "name": "transaction_count_last_7_days",
         "rawType": "float64",
         "type": "float"
        },
        {
         "name": "average_transaction_amount_last_10_days",
         "rawType": "float64",
         "type": "float"
        },
        {
         "name": "days_since_last_transaction",
         "rawType": "float64",
         "type": "float"
        },
        {
         "name": "unique_locations_used",
         "rawType": "int64",
         "type": "integer"
        },
        {
         "name": "new_device",
         "rawType": "int64",
         "type": "integer"
        },
        {
         "name": "amount_z_score_user",
         "rawType": "float64",
         "type": "float"
        },
        {
         "name": "hours_since_last_transaction_user",
         "rawType": "float64",
         "type": "float"
        },
        {
         "name": "transaction_count_today_user",
         "rawType": "int64",
         "type": "integer"
        },
        {
         "name": "amount_percentile_user",
         "rawType": "float64",
         "type": "float"
        }
       ],
       "ref": "2fc385a9-9fb8-405e-8535-b34a5294a88f",
       "rows": [
        [
         "0",
         "2025-06-01 12:03:31",
         "user1000",
         "cashout",
         "2981.21",
         "USD",
         "London",
         "Samsung Galaxy S10",
         "6",
         "12",
         "6",
         "2",
         "True",
         "1",
         "True",
         "1.0",
         "2981.21",
         "0.0",
         "1",
         "1",
         "0.32878414235449865",
         "0.0",
         "2",
         "0.581081081081081"
        ],
        [
         "1",
         "2025-06-01 19:19:50",
         "user1000",
         "debit",
         "1394.4370000000001",
         "EUR",
         "Manchester",
         "Xiaomi Mi 11",
         "6",
         "19",
         "6",
         "2",
         "True",
         "1",
         "False",
         "2.0",
         "2124.44",
         "0.0",
         "2",
         "1",
         "-0.8143570518695205",
         "7.271944444444444",
         "2",
         "0.2972972972972973"
        ],
        [
         "2",
         "2025-06-02 19:52:44",
         "user1000",
         "refund",
         "3610.68",
         "USD",
         "Cardiff",
         "Huawei P30",
         "0",
         "19",
         "6",
         "2",
         "False",
         "2",
         "False",
         "3.0",
         "2619.853333333333",
         "1.0",
         "3",
         "1",
         "0.748717781212181",
         "24.548333333333332",
         "1",
         "0.7432432432432432"
        ],
        [
         "3",
         "2025-06-03 10:11:53",
         "user1000",
         "cashout",
         "5823.825000000001",
         "GBP",
         "Birmingham",
         "Nokia 3310",
         "1",
         "10",
         "6",
         "2",
         "False",
         "3",
         "True",
         "4.0",
         "3129.655",
         "0.0",
         "4",
         "1",
         "1.4481157323545983",
         "14.319166666666666",
         "2",
         "0.9054054054054054"
        ],
        [
         "4",
         "2025-06-03 21:23:30",
         "user1000",
         "cashout",
         "5079.9625",
         "GBP",
         "Liverpool",
         "Nokia 3310",
         "1",
         "21",
         "6",
         "2",
         "False",
         "3",
         "False",
         "5.0",
         "3316.518",
         "0.0",
         "5",
         "0",
         "1.0511177671651237",
         "11.19361111111111",
         "2",
         "0.7702702702702703"
        ]
       ],
       "shape": {
        "columns": 23,
        "rows": 5
       }
      },
      "text/html": [
       "<div>\n",
       "<style scoped>\n",
       "    .dataframe tbody tr th:only-of-type {\n",
       "        vertical-align: middle;\n",
       "    }\n",
       "\n",
       "    .dataframe tbody tr th {\n",
       "        vertical-align: top;\n",
       "    }\n",
       "\n",
       "    .dataframe thead th {\n",
       "        text-align: right;\n",
       "    }\n",
       "</style>\n",
       "<table border=\"1\" class=\"dataframe\">\n",
       "  <thead>\n",
       "    <tr style=\"text-align: right;\">\n",
       "      <th></th>\n",
       "      <th>datetime</th>\n",
       "      <th>user_id</th>\n",
       "      <th>transaction_type</th>\n",
       "      <th>amount</th>\n",
       "      <th>currency</th>\n",
       "      <th>location</th>\n",
       "      <th>device</th>\n",
       "      <th>day_of_week</th>\n",
       "      <th>hour_of_day</th>\n",
       "      <th>month</th>\n",
       "      <th>quarter</th>\n",
       "      <th>is_weekend</th>\n",
       "      <th>day_of_month</th>\n",
       "      <th>is_business_hours</th>\n",
       "      <th>transaction_count_last_7_days</th>\n",
       "      <th>average_transaction_amount_last_10_days</th>\n",
       "      <th>days_since_last_transaction</th>\n",
       "      <th>unique_locations_used</th>\n",
       "      <th>new_device</th>\n",
       "      <th>amount_z_score_user</th>\n",
       "      <th>hours_since_last_transaction_user</th>\n",
       "      <th>transaction_count_today_user</th>\n",
       "      <th>amount_percentile_user</th>\n",
       "    </tr>\n",
       "  </thead>\n",
       "  <tbody>\n",
       "    <tr>\n",
       "      <th>0</th>\n",
       "      <td>2025-06-01 12:03:31</td>\n",
       "      <td>user1000</td>\n",
       "      <td>cashout</td>\n",
       "      <td>2981.2100</td>\n",
       "      <td>USD</td>\n",
       "      <td>London</td>\n",
       "      <td>Samsung Galaxy S10</td>\n",
       "      <td>6</td>\n",
       "      <td>12</td>\n",
       "      <td>6</td>\n",
       "      <td>2</td>\n",
       "      <td>True</td>\n",
       "      <td>1</td>\n",
       "      <td>True</td>\n",
       "      <td>1.0</td>\n",
       "      <td>2981.210000</td>\n",
       "      <td>0.0</td>\n",
       "      <td>1</td>\n",
       "      <td>1</td>\n",
       "      <td>0.328784</td>\n",
       "      <td>0.000000</td>\n",
       "      <td>2</td>\n",
       "      <td>0.581081</td>\n",
       "    </tr>\n",
       "    <tr>\n",
       "      <th>1</th>\n",
       "      <td>2025-06-01 19:19:50</td>\n",
       "      <td>user1000</td>\n",
       "      <td>debit</td>\n",
       "      <td>1394.4370</td>\n",
       "      <td>EUR</td>\n",
       "      <td>Manchester</td>\n",
       "      <td>Xiaomi Mi 11</td>\n",
       "      <td>6</td>\n",
       "      <td>19</td>\n",
       "      <td>6</td>\n",
       "      <td>2</td>\n",
       "      <td>True</td>\n",
       "      <td>1</td>\n",
       "      <td>False</td>\n",
       "      <td>2.0</td>\n",
       "      <td>2124.440000</td>\n",
       "      <td>0.0</td>\n",
       "      <td>2</td>\n",
       "      <td>1</td>\n",
       "      <td>-0.814357</td>\n",
       "      <td>7.271944</td>\n",
       "      <td>2</td>\n",
       "      <td>0.297297</td>\n",
       "    </tr>\n",
       "    <tr>\n",
       "      <th>2</th>\n",
       "      <td>2025-06-02 19:52:44</td>\n",
       "      <td>user1000</td>\n",
       "      <td>refund</td>\n",
       "      <td>3610.6800</td>\n",
       "      <td>USD</td>\n",
       "      <td>Cardiff</td>\n",
       "      <td>Huawei P30</td>\n",
       "      <td>0</td>\n",
       "      <td>19</td>\n",
       "      <td>6</td>\n",
       "      <td>2</td>\n",
       "      <td>False</td>\n",
       "      <td>2</td>\n",
       "      <td>False</td>\n",
       "      <td>3.0</td>\n",
       "      <td>2619.853333</td>\n",
       "      <td>1.0</td>\n",
       "      <td>3</td>\n",
       "      <td>1</td>\n",
       "      <td>0.748718</td>\n",
       "      <td>24.548333</td>\n",
       "      <td>1</td>\n",
       "      <td>0.743243</td>\n",
       "    </tr>\n",
       "    <tr>\n",
       "      <th>3</th>\n",
       "      <td>2025-06-03 10:11:53</td>\n",
       "      <td>user1000</td>\n",
       "      <td>cashout</td>\n",
       "      <td>5823.8250</td>\n",
       "      <td>GBP</td>\n",
       "      <td>Birmingham</td>\n",
       "      <td>Nokia 3310</td>\n",
       "      <td>1</td>\n",
       "      <td>10</td>\n",
       "      <td>6</td>\n",
       "      <td>2</td>\n",
       "      <td>False</td>\n",
       "      <td>3</td>\n",
       "      <td>True</td>\n",
       "      <td>4.0</td>\n",
       "      <td>3129.655000</td>\n",
       "      <td>0.0</td>\n",
       "      <td>4</td>\n",
       "      <td>1</td>\n",
       "      <td>1.448116</td>\n",
       "      <td>14.319167</td>\n",
       "      <td>2</td>\n",
       "      <td>0.905405</td>\n",
       "    </tr>\n",
       "    <tr>\n",
       "      <th>4</th>\n",
       "      <td>2025-06-03 21:23:30</td>\n",
       "      <td>user1000</td>\n",
       "      <td>cashout</td>\n",
       "      <td>5079.9625</td>\n",
       "      <td>GBP</td>\n",
       "      <td>Liverpool</td>\n",
       "      <td>Nokia 3310</td>\n",
       "      <td>1</td>\n",
       "      <td>21</td>\n",
       "      <td>6</td>\n",
       "      <td>2</td>\n",
       "      <td>False</td>\n",
       "      <td>3</td>\n",
       "      <td>False</td>\n",
       "      <td>5.0</td>\n",
       "      <td>3316.518000</td>\n",
       "      <td>0.0</td>\n",
       "      <td>5</td>\n",
       "      <td>0</td>\n",
       "      <td>1.051118</td>\n",
       "      <td>11.193611</td>\n",
       "      <td>2</td>\n",
       "      <td>0.770270</td>\n",
       "    </tr>\n",
       "  </tbody>\n",
       "</table>\n",
       "</div>"
      ],
      "text/plain": [
       "             datetime  ... amount_percentile_user\n",
       "0 2025-06-01 12:03:31  ...               0.581081\n",
       "1 2025-06-01 19:19:50  ...               0.297297\n",
       "2 2025-06-02 19:52:44  ...               0.743243\n",
       "3 2025-06-03 10:11:53  ...               0.905405\n",
       "4 2025-06-03 21:23:30  ...               0.770270\n",
       "\n",
       "[5 rows x 23 columns]"
      ]
     },
     "execution_count": 14,
     "metadata": {},
     "output_type": "execute_result"
    }
   ],
   "source": [
    "from src.anomaly_detection.utils.common import convert_to_usd\n",
    "## standardize the currency into one\n",
    "\n",
    "df = convert_to_usd(df)\n",
    "df.head()"
   ]
  },
  {
   "cell_type": "code",
   "execution_count": 15,
   "id": "49bd2375",
   "metadata": {},
   "outputs": [],
   "source": [
    "## convert the booleans into float\n",
    "df['is_business_hours'] = df['is_business_hours'].astype(float)\n",
    "df['is_weekend'] = df['is_weekend'].astype(float)"
   ]
  },
  {
   "cell_type": "code",
   "execution_count": 17,
   "id": "9bcacdb4",
   "metadata": {},
   "outputs": [
    {
     "data": {
      "image/png": "[encoded data removed]",
      "text/plain": [
       "<Figure size 640x480 with 1 Axes>"
      ]
     },
     "metadata": {},
     "output_type": "display_data"
    }
   ],
   "source": [
    "sns.boxplot(data=df, x=df['location'], y = df['amount'])\n",
    "plt.show()"
   ]
  },
  {
   "cell_type": "code",
   "execution_count": 18,
   "id": "59d6a979",
   "metadata": {},
   "outputs": [
    {
     "data": {
      "image/png": "[encoded data removed]",
      "text/plain": [
       "<Figure size 640x480 with 1 Axes>"
      ]
     },
     "metadata": {},
     "output_type": "display_data"
    }
   ],
   "source": [
    "sns.histplot(data=df, x=\"amount\", kde=True)\n",
    "plt.show()"
   ]
  },
  {
   "cell_type": "code",
   "execution_count": 19,
   "id": "2a23f26c",
   "metadata": {},
   "outputs": [],
   "source": [
    "from src.anomaly_detection.utils.common import label_encode_columns"
   ]
  },
  {
   "cell_type": "code",
   "execution_count": 20,
   "id": "535cec19",
   "metadata": {},
   "outputs": [
    {
     "name": "stdout",
     "output_type": "stream",
     "text": [
      "Encoded DataFrame:\n",
      "                 datetime  ... amount_percentile_user\n",
      "0    2025-06-01 12:03:31  ...               0.581081\n",
      "1    2025-06-01 19:19:50  ...               0.297297\n",
      "2    2025-06-02 19:52:44  ...               0.743243\n",
      "3    2025-06-03 10:11:53  ...               0.905405\n",
      "4    2025-06-03 21:23:30  ...               0.770270\n",
      "...                  ...  ...                    ...\n",
      "7769 2025-07-24 14:45:45  ...               0.341463\n",
      "7770 2025-07-25 10:04:10  ...               0.682927\n",
      "7771 2025-07-25 18:10:43  ...               0.707317\n",
      "7772 2025-07-27 11:55:14  ...               0.317073\n",
      "7773 2025-07-29 10:46:11  ...               0.804878\n",
      "\n",
      "[7774 rows x 23 columns]\n",
      "\n",
      "Label Encoders: {'device': LabelEncoder(), 'transaction_type': LabelEncoder(), 'location': LabelEncoder()}\n"
     ]
    }
   ],
   "source": [
    "## Encoding the categorcal features\n",
    "columns = [\"device\", \"transaction_type\", \"location\"]\n",
    "\n",
    "df, fitted_encoders = label_encode_columns(df, columns)\n",
    "\n",
    "print(\"Encoded DataFrame:\\n\", df)\n",
    "print(\"\\nLabel Encoders:\", fitted_encoders)"
   ]
  },
  {
   "cell_type": "code",
   "execution_count": 22,
   "id": "629d3d6b",
   "metadata": {},
   "outputs": [
    {
     "name": "stdout",
     "output_type": "stream",
     "text": [
      "20\n"
     ]
    }
   ],
   "source": [
    "features = ['device', 'transaction_type', 'location', 'amount', \n",
    "       'day_of_week', 'hour_of_day', 'month', 'quarter',\n",
    "       'is_weekend', 'day_of_month', 'is_business_hours',\n",
    "       'transaction_count_last_7_days',\n",
    "       'average_transaction_amount_last_10_days',\n",
    "       'days_since_last_transaction', 'unique_locations_used', 'new_device',\n",
    "       'amount_z_score_user', 'hours_since_last_transaction_user',\n",
    "       'transaction_count_today_user', 'amount_percentile_user']\n",
    "\n",
    "print(len(features))"
   ]
  },
  {
   "cell_type": "code",
   "execution_count": 25,
   "id": "1df774af",
   "metadata": {},
   "outputs": [
    {
     "name": "stdout",
     "output_type": "stream",
     "text": [
      "[1 0 0 ... 0 0 0]\n"
     ]
    }
   ],
   "source": [
    "iforest = IForest(contamination=0.03, max_features=0.8, random_state=42)\n",
    "iforest = iforest.fit(df[features])\n",
    "labels = iforest.labels_\n",
    "print(labels)"
   ]
  },
  {
   "cell_type": "code",
   "execution_count": 26,
   "id": "afe7d8ef",
   "metadata": {},
   "outputs": [
    {
     "name": "stdout",
     "output_type": "stream",
     "text": [
      "[[0.24967066 0.75032934]\n",
      " [0.36865934 0.63134066]\n",
      " [0.40016046 0.59983954]\n",
      " ...\n",
      " [0.76504827 0.23495173]\n",
      " [0.49786899 0.50213101]\n",
      " [0.62749153 0.37250847]]\n"
     ]
    },
    {
     "name": "stderr",
     "output_type": "stream",
     "text": [
      "c:\\Users\\user\\Desktop\\moniepoint\\.venv\\Lib\\site-packages\\sklearn\\utils\\validation.py:2742: UserWarning: X has feature names, but IsolationForest was fitted without feature names\n",
      "  warnings.warn(\n"
     ]
    }
   ],
   "source": [
    "all_probs = iforest.predict_proba(df[features])\n",
    "print(all_probs)"
   ]
  },
  {
   "cell_type": "code",
   "execution_count": null,
   "id": "f42be3db",
   "metadata": {},
   "outputs": [],
   "source": [
    "df[]"
   ]
  },
  {
   "cell_type": "code",
   "execution_count": 27,
   "id": "24c0df3f",
   "metadata": {},
   "outputs": [],
   "source": [
    "outlier = df[features][iforest.labels_ == 1]"
   ]
  },
  {
   "cell_type": "code",
   "execution_count": 29,
   "id": "5ad91f07",
   "metadata": {},
   "outputs": [
    {
     "name": "stdout",
     "output_type": "stream",
     "text": [
      "[[0.24967066 0.75032934]\n",
      " [0.05371178 0.94628822]\n",
      " [0.33770471 0.66229529]\n",
      " [0.34205989 0.65794011]\n",
      " [0.31080724 0.68919276]\n",
      " [0.15751681 0.84248319]\n",
      " [0.25973945 0.74026055]\n",
      " [0.33904239 0.66095761]\n",
      " [0.29943743 0.70056257]\n",
      " [0.29680819 0.70319181]]\n"
     ]
    },
    {
     "name": "stderr",
     "output_type": "stream",
     "text": [
      "c:\\Users\\user\\Desktop\\moniepoint\\.venv\\Lib\\site-packages\\sklearn\\utils\\validation.py:2742: UserWarning: X has feature names, but IsolationForest was fitted without feature names\n",
      "  warnings.warn(\n"
     ]
    }
   ],
   "source": [
    "outlier_prob = iforest.predict_proba(outlier)\n",
    "print(outlier_prob[:10])"
   ]
  },
  {
   "cell_type": "code",
   "execution_count": 31,
   "id": "c261093c",
   "metadata": {},
   "outputs": [
    {
     "name": "stdout",
     "output_type": "stream",
     "text": [
      "[[0.24967066 0.75032934]\n",
      " [0.05371178 0.94628822]\n",
      " [0.33770471 0.66229529]\n",
      " [0.34205989 0.65794011]\n",
      " [0.31080724 0.68919276]\n",
      " [0.15751681 0.84248319]\n",
      " [0.25973945 0.74026055]\n",
      " [0.33904239 0.66095761]\n",
      " [0.29943743 0.70056257]\n",
      " [0.29680819 0.70319181]\n",
      " [0.31495428 0.68504572]\n",
      " [0.0906183  0.9093817 ]\n",
      " [0.32989144 0.67010856]\n",
      " [0.2400714  0.7599286 ]\n",
      " [0.32977152 0.67022848]\n",
      " [0.11379842 0.88620158]\n",
      " [0.34393366 0.65606634]\n",
      " [0.32084615 0.67915385]\n",
      " [0.14502631 0.85497369]\n",
      " [0.21571114 0.78428886]\n",
      " [0.3484557  0.6515443 ]\n",
      " [0.29855455 0.70144545]\n",
      " [0.20551307 0.79448693]\n",
      " [0.2938747  0.7061253 ]\n",
      " [0.25214856 0.74785144]\n",
      " [0.34300218 0.65699782]\n",
      " [0.17021175 0.82978825]\n",
      " [0.30339266 0.69660734]\n",
      " [0.29897145 0.70102855]\n",
      " [0.08958978 0.91041022]\n",
      " [0.34648673 0.65351327]\n",
      " [0.27651995 0.72348005]\n",
      " [0.27930537 0.72069463]\n",
      " [0.25002422 0.74997578]\n",
      " [0.27434386 0.72565614]\n",
      " [0.20582824 0.79417176]\n",
      " [0.08466158 0.91533842]\n",
      " [0.2581875  0.7418125 ]\n",
      " [0.29849769 0.70150231]\n",
      " [0.28875977 0.71124023]\n",
      " [0.30437136 0.69562864]\n",
      " [0.34962481 0.65037519]\n",
      " [0.22772249 0.77227751]\n",
      " [0.33160443 0.66839557]\n",
      " [0.33389549 0.66610451]\n",
      " [0.33794219 0.66205781]\n",
      " [0.22616267 0.77383733]\n",
      " [0.25388451 0.74611549]\n",
      " [0.26280991 0.73719009]\n",
      " [0.26695295 0.73304705]\n",
      " [0.11215806 0.88784194]\n",
      " [0.31497997 0.68502003]\n",
      " [0.34354494 0.65645506]\n",
      " [0.29274476 0.70725524]\n",
      " [0.20001847 0.79998153]\n",
      " [0.15583379 0.84416621]\n",
      " [0.19436184 0.80563816]\n",
      " [0.32249694 0.67750306]\n",
      " [0.1982484  0.8017516 ]\n",
      " [0.19147715 0.80852285]\n",
      " [0.21102106 0.78897894]\n",
      " [0.29724987 0.70275013]\n",
      " [0.         1.        ]\n",
      " [0.17197393 0.82802607]\n",
      " [0.14496692 0.85503308]\n",
      " [0.34066319 0.65933681]\n",
      " [0.1704788  0.8295212 ]\n",
      " [0.24035574 0.75964426]\n",
      " [0.3447902  0.6552098 ]\n",
      " [0.30053166 0.69946834]\n",
      " [0.09908237 0.90091763]\n",
      " [0.34610286 0.65389714]\n",
      " [0.23546205 0.76453795]\n",
      " [0.34246846 0.65753154]\n",
      " [0.33779441 0.66220559]\n",
      " [0.34597401 0.65402599]\n",
      " [0.29598906 0.70401094]\n",
      " [0.24144723 0.75855277]\n",
      " [0.24699042 0.75300958]\n",
      " [0.34691423 0.65308577]\n",
      " [0.24847027 0.75152973]\n",
      " [0.32449593 0.67550407]\n",
      " [0.209474   0.790526  ]\n",
      " [0.34738233 0.65261767]\n",
      " [0.26219186 0.73780814]\n",
      " [0.19201218 0.80798782]\n",
      " [0.34655413 0.65344587]\n",
      " [0.26490183 0.73509817]\n",
      " [0.20249884 0.79750116]\n",
      " [0.15200568 0.84799432]\n",
      " [0.27360506 0.72639494]\n",
      " [0.24334619 0.75665381]\n",
      " [0.31502018 0.68497982]\n",
      " [0.19545967 0.80454033]\n",
      " [0.32098139 0.67901861]\n",
      " [0.17877386 0.82122614]\n",
      " [0.21906706 0.78093294]\n",
      " [0.28981101 0.71018899]\n",
      " [0.30266023 0.69733977]\n",
      " [0.29747516 0.70252484]\n",
      " [0.14415382 0.85584618]\n",
      " [0.301672   0.698328  ]\n",
      " [0.34234856 0.65765144]\n",
      " [0.34019832 0.65980168]\n",
      " [0.347699   0.652301  ]\n",
      " [0.28253081 0.71746919]\n",
      " [0.31840145 0.68159855]\n",
      " [0.32215778 0.67784222]\n",
      " [0.27221805 0.72778195]\n",
      " [0.12785583 0.87214417]\n",
      " [0.30854102 0.69145898]\n",
      " [0.32747268 0.67252732]\n",
      " [0.15884714 0.84115286]\n",
      " [0.18791305 0.81208695]\n",
      " [0.27313756 0.72686244]\n",
      " [0.3499678  0.6500322 ]\n",
      " [0.11778358 0.88221642]\n",
      " [0.24493404 0.75506596]\n",
      " [0.28496503 0.71503497]\n",
      " [0.25953283 0.74046717]\n",
      " [0.10314172 0.89685828]\n",
      " [0.3389967  0.6610033 ]\n",
      " [0.35037104 0.64962896]\n",
      " [0.15117126 0.84882874]\n",
      " [0.31653084 0.68346916]\n",
      " [0.17706579 0.82293421]\n",
      " [0.33995667 0.66004333]\n",
      " [0.18176853 0.81823147]\n",
      " [0.34780447 0.65219553]\n",
      " [0.3250587  0.6749413 ]\n",
      " [0.31595772 0.68404228]\n",
      " [0.25598631 0.74401369]\n",
      " [0.11646209 0.88353791]\n",
      " [0.22553902 0.77446098]\n",
      " [0.30743515 0.69256485]\n",
      " [0.12413766 0.87586234]\n",
      " [0.09153854 0.90846146]\n",
      " [0.31409114 0.68590886]\n",
      " [0.23536536 0.76463464]\n",
      " [0.32637675 0.67362325]\n",
      " [0.14682265 0.85317735]\n",
      " [0.23844093 0.76155907]\n",
      " [0.30490395 0.69509605]\n",
      " [0.28628894 0.71371106]\n",
      " [0.33896129 0.66103871]\n",
      " [0.25417075 0.74582925]\n",
      " [0.13111569 0.86888431]\n",
      " [0.33652151 0.66347849]\n",
      " [0.2787235  0.7212765 ]\n",
      " [0.34834025 0.65165975]\n",
      " [0.27061956 0.72938044]\n",
      " [0.17204249 0.82795751]\n",
      " [0.27902941 0.72097059]\n",
      " [0.24927037 0.75072963]\n",
      " [0.31517163 0.68482837]\n",
      " [0.260212   0.739788  ]\n",
      " [0.32892835 0.67107165]\n",
      " [0.20109933 0.79890067]\n",
      " [0.27024794 0.72975206]\n",
      " [0.1424809  0.8575191 ]\n",
      " [0.33105753 0.66894247]\n",
      " [0.08666869 0.91333131]\n",
      " [0.19102212 0.80897788]\n",
      " [0.2978917  0.7021083 ]\n",
      " [0.32286215 0.67713785]\n",
      " [0.31303712 0.68696288]\n",
      " [0.25974717 0.74025283]\n",
      " [0.16869248 0.83130752]\n",
      " [0.28348373 0.71651627]\n",
      " [0.19467306 0.80532694]\n",
      " [0.14460729 0.85539271]\n",
      " [0.34936628 0.65063372]\n",
      " [0.12552206 0.87447794]\n",
      " [0.20583257 0.79416743]\n",
      " [0.15119081 0.84880919]\n",
      " [0.30509226 0.69490774]\n",
      " [0.32472418 0.67527582]\n",
      " [0.29278132 0.70721868]\n",
      " [0.25095638 0.74904362]\n",
      " [0.31404499 0.68595501]\n",
      " [0.20567494 0.79432506]\n",
      " [0.34343912 0.65656088]\n",
      " [0.33761198 0.66238802]\n",
      " [0.27876478 0.72123522]\n",
      " [0.29185519 0.70814481]\n",
      " [0.32227921 0.67772079]\n",
      " [0.1174536  0.8825464 ]\n",
      " [0.16826174 0.83173826]\n",
      " [0.19247915 0.80752085]\n",
      " [0.30274862 0.69725138]\n",
      " [0.21593603 0.78406397]\n",
      " [0.08537051 0.91462949]\n",
      " [0.32210061 0.67789939]\n",
      " [0.23275828 0.76724172]\n",
      " [0.26376691 0.73623309]\n",
      " [0.19160303 0.80839697]\n",
      " [0.31685481 0.68314519]\n",
      " [0.31226173 0.68773827]\n",
      " [0.22165746 0.77834254]\n",
      " [0.24058708 0.75941292]\n",
      " [0.32840191 0.67159809]\n",
      " [0.22804649 0.77195351]\n",
      " [0.33486431 0.66513569]\n",
      " [0.30348138 0.69651862]\n",
      " [0.2952237  0.7047763 ]\n",
      " [0.34715286 0.65284714]\n",
      " [0.2996229  0.7003771 ]\n",
      " [0.08665342 0.91334658]\n",
      " [0.26487723 0.73512277]\n",
      " [0.27268887 0.72731113]\n",
      " [0.329097   0.670903  ]\n",
      " [0.25870598 0.74129402]\n",
      " [0.28662076 0.71337924]\n",
      " [0.13469786 0.86530214]\n",
      " [0.34380614 0.65619386]\n",
      " [0.22208454 0.77791546]\n",
      " [0.27489626 0.72510374]\n",
      " [0.21225116 0.78774884]\n",
      " [0.34222848 0.65777152]\n",
      " [0.10565469 0.89434531]\n",
      " [0.16518849 0.83481151]\n",
      " [0.25899594 0.74100406]\n",
      " [0.2541682  0.7458318 ]\n",
      " [0.14706589 0.85293411]\n",
      " [0.33279762 0.66720238]\n",
      " [0.32686827 0.67313173]\n",
      " [0.30834865 0.69165135]\n",
      " [0.32584815 0.67415185]\n",
      " [0.28253789 0.71746211]\n",
      " [0.07720812 0.92279188]\n",
      " [0.26513129 0.73486871]\n",
      " [0.27740412 0.72259588]\n",
      " [0.25924491 0.74075509]\n",
      " [0.33548525 0.66451475]]\n"
     ]
    }
   ],
   "source": [
    "print(outlier_prob[:])"
   ]
  },
  {
   "cell_type": "markdown",
   "id": "6e4f3dab",
   "metadata": {},
   "source": [
    "### Model Explanation, Training and saving for deployment"
   ]
  },
  {
   "cell_type": "code",
   "execution_count": 55,
   "id": "107439b8",
   "metadata": {},
   "outputs": [],
   "source": [
    "class AnomalyDetection:\n",
    "    def __init__(self, model=None):\n",
    "        self.model = model if model else IsolationForest(contamination=0.03, max_features=0.8, random_state=42)\n",
    "        self.data = None \n",
    "        self.scores = None\n",
    "        self.labels = None\n",
    "        self.fitted = False\n",
    "        self.shap_explainer = None\n",
    "    \n",
    "    def fit(self, X: pd.DataFrame):\n",
    "        self.data = X.copy()  # Store dataset for later reference\n",
    "        self.model.fit(X)\n",
    "        self.scores = -self.model.decision_function(X)  # Higher = more anomalous \n",
    "        self.labels = np.where(self.model.predict(X) == -1, 1, 0)  # 1=Anomaly, 0=Normal\n",
    "        self.fitted = True\n",
    "        \n",
    "        self.shap_explainer = shap.Explainer(self.model, X)\n",
    "        \n",
    "    def top_anomalies(self, n=10):\n",
    "        \"\"\"Return top N anomalies.\"\"\"\n",
    "        if not self.fitted:\n",
    "            raise ValueError(\"Model not fitted yet.\")\n",
    "        top_idx = np.argsort(self.scores)[-n:]\n",
    "        return self.data.iloc[top_idx], self.scores[top_idx], self.labels[top_idx]\n",
    "\n",
    "    def plot_shap_summary(self, top_n=10):\n",
    "        \"\"\"Plot SHAP feature importance for top anomalies.\"\"\"\n",
    "        if not self.fitted:\n",
    "            raise ValueError(\"Model not fitted yet.\")\n",
    "        top_idx = np.argsort(self.scores)[-top_n:]\n",
    "        X = self.data.iloc[top_idx]\n",
    "        shap_values = self.shap_explainer(X)\n",
    "        shap.summary_plot(shap_values, X, plot_type=\"bar\")\n",
    "        \n",
    "    def plot_feature_contributions(self, anomaly):\n",
    "        \"\"\"\n",
    "        Plot SHAP feature contributions for a single anomaly.\n",
    "        anomaly: index in self.data or a single row as a pandas Series.\n",
    "        \"\"\"\n",
    "        if not self.fitted:\n",
    "            raise ValueError(\"Model not fitted yet.\")\n",
    "\n",
    "        if isinstance(anomaly, pd.Series):\n",
    "            X_single = anomaly.to_frame().T\n",
    "        elif anomaly in self.data.index:\n",
    "            X_single = self.data.loc[[anomaly]]\n",
    "        else:\n",
    "            raise ValueError(\"Provided anomaly must be a valid index or Series from the fitted data.\")\n",
    "\n",
    "        shap_values = self.shap_explainer(X_single)\n",
    "\n",
    "        # SHAP now returns an Explanation object; use .values for the array\n",
    "        shap_values_array = shap_values.values[0]\n",
    "\n",
    "        # Create a DataFrame for better plotting control\n",
    "        contrib_df = pd.DataFrame({\n",
    "            \"feature\": self.data.columns,\n",
    "            \"shap_value\": shap_values_array,\n",
    "            \"abs_value\": np.abs(shap_values_array)\n",
    "        }).sort_values(\"abs_value\", ascending=True)\n",
    "\n",
    "        # Plot a horizontal bar chart\n",
    "        plt.figure(figsize=(8, 5))\n",
    "        plt.barh(contrib_df[\"feature\"], contrib_df[\"shap_value\"], color=\"skyblue\")\n",
    "        plt.axvline(0, color=\"red\", linestyle=\"--\")\n",
    "        plt.title(\"Feature Contributions for Selected Anomaly\")\n",
    "        plt.xlabel(\"SHAP Value (Impact on Model Output)\")\n",
    "        plt.tight_layout()\n",
    "        plt.show()\n",
    "\n",
    "    def save_model(self, path=\"anomaly_detector.joblib\"):\n",
    "        \"\"\"Save model for deployment.\"\"\"\n",
    "        if not self.fitted:\n",
    "            raise ValueError(\"Model not fitted yet.\")\n",
    "        joblib.dump({\n",
    "            \"model\": self.model\n",
    "        }, path)"
   ]
  },
  {
   "cell_type": "code",
   "execution_count": 56,
   "id": "0b8a9e90",
   "metadata": {},
   "outputs": [],
   "source": [
    "X = df[features]"
   ]
  },
  {
   "cell_type": "code",
   "execution_count": 57,
   "id": "05ed3a66",
   "metadata": {},
   "outputs": [],
   "source": [
    "detector = AnomalyDetection()\n",
    "detector.fit(X)"
   ]
  },
  {
   "cell_type": "code",
   "execution_count": 58,
   "id": "671a4266",
   "metadata": {},
   "outputs": [
    {
     "name": "stdout",
     "output_type": "stream",
     "text": [
      "      device  ...  amount_percentile_user\n",
      "6266       1  ...                0.866667\n",
      "1379       0  ...                0.909774\n",
      "7623       1  ...                0.881818\n",
      "74         6  ...                0.914286\n",
      "1962       5  ...                0.812500\n",
      "\n",
      "[5 rows x 20 columns]\n"
     ]
    }
   ],
   "source": [
    "# Show top anomalies\n",
    "top_data, scores, labels = detector.top_anomalies(5)\n",
    "print(top_data)"
   ]
  },
  {
   "cell_type": "code",
   "execution_count": 59,
   "id": "bd2daded",
   "metadata": {},
   "outputs": [
    {
     "name": "stderr",
     "output_type": "stream",
     "text": [
      "2025-08-16 01:29:37,032 - DEBUG - findfont: Matching sans\\-serif:style=normal:variant=normal:weight=normal:stretch=normal:size=12.0.\n",
      "2025-08-16 01:29:37,033 - DEBUG - findfont: score(FontEntry(fname='c:\\\\Users\\\\user\\\\Desktop\\\\moniepoint\\\\.venv\\\\Lib\\\\site-packages\\\\matplotlib\\\\mpl-data\\\\fonts\\\\ttf\\\\cmss10.ttf', name='cmss10', style='normal', variant='normal', weight=400, stretch='normal', size='scalable')) = 10.05\n",
      "2025-08-16 01:29:37,034 - DEBUG - findfont: score(FontEntry(fname='c:\\\\Users\\\\user\\\\Desktop\\\\moniepoint\\\\.venv\\\\Lib\\\\site-packages\\\\matplotlib\\\\mpl-data\\\\fonts\\\\ttf\\\\DejaVuSansMono-Bold.ttf', name='DejaVu Sans Mono', style='normal', variant='normal', weight=700, stretch='normal', size='scalable')) = 10.335\n",
      "2025-08-16 01:29:37,035 - DEBUG - findfont: score(FontEntry(fname='c:\\\\Users\\\\user\\\\Desktop\\\\moniepoint\\\\.venv\\\\Lib\\\\site-packages\\\\matplotlib\\\\mpl-data\\\\fonts\\\\ttf\\\\STIXNonUniBolIta.ttf', name='STIXNonUnicode', style='italic', variant='normal', weight=700, stretch='normal', size='scalable')) = 11.335\n",
      "2025-08-16 01:29:37,036 - DEBUG - findfont: score(FontEntry(fname='c:\\\\Users\\\\user\\\\Desktop\\\\moniepoint\\\\.venv\\\\Lib\\\\site-packages\\\\matplotlib\\\\mpl-data\\\\fonts\\\\ttf\\\\STIXSizOneSymBol.ttf', name='STIXSizeOneSym', style='normal', variant='normal', weight=700, stretch='normal', size='scalable')) = 10.335\n",
      "2025-08-16 01:29:37,037 - DEBUG - findfont: score(FontEntry(fname='c:\\\\Users\\\\user\\\\Desktop\\\\moniepoint\\\\.venv\\\\Lib\\\\site-packages\\\\matplotlib\\\\mpl-data\\\\fonts\\\\ttf\\\\cmmi10.ttf', name='cmmi10', style='normal', variant='normal', weight=400, stretch='normal', size='scalable')) = 10.05\n",
      "2025-08-16 01:29:37,038 - DEBUG - findfont: score(FontEntry(fname='c:\\\\Users\\\\user\\\\Desktop\\\\moniepoint\\\\.venv\\\\Lib\\\\site-packages\\\\matplotlib\\\\mpl-data\\\\fonts\\\\ttf\\\\DejaVuSerif-BoldItalic.ttf', name='DejaVu Serif', style='italic', variant='normal', weight=700, stretch='normal', size='scalable')) = 11.335\n",
      "2025-08-16 01:29:37,038 - DEBUG - findfont: score(FontEntry(fname='c:\\\\Users\\\\user\\\\Desktop\\\\moniepoint\\\\.venv\\\\Lib\\\\site-packages\\\\matplotlib\\\\mpl-data\\\\fonts\\\\ttf\\\\STIXNonUni.ttf', name='STIXNonUnicode', style='normal', variant='normal', weight=400, stretch='normal', size='scalable')) = 10.05\n",
      "2025-08-16 01:29:37,039 - DEBUG - findfont: score(FontEntry(fname='c:\\\\Users\\\\user\\\\Desktop\\\\moniepoint\\\\.venv\\\\Lib\\\\site-packages\\\\matplotlib\\\\mpl-data\\\\fonts\\\\ttf\\\\STIXSizFourSymBol.ttf', name='STIXSizeFourSym', style='normal', variant='normal', weight=700, stretch='normal', size='scalable')) = 10.335\n",
      "2025-08-16 01:29:37,040 - DEBUG - findfont: score(FontEntry(fname='c:\\\\Users\\\\user\\\\Desktop\\\\moniepoint\\\\.venv\\\\Lib\\\\site-packages\\\\matplotlib\\\\mpl-data\\\\fonts\\\\ttf\\\\STIXSizFiveSymReg.ttf', name='STIXSizeFiveSym', style='normal', variant='normal', weight=400, stretch='normal', size='scalable')) = 10.05\n",
      "2025-08-16 01:29:37,040 - DEBUG - findfont: score(FontEntry(fname='c:\\\\Users\\\\user\\\\Desktop\\\\moniepoint\\\\.venv\\\\Lib\\\\site-packages\\\\matplotlib\\\\mpl-data\\\\fonts\\\\ttf\\\\DejaVuSansMono-BoldOblique.ttf', name='DejaVu Sans Mono', style='oblique', variant='normal', weight=700, stretch='normal', size='scalable')) = 11.335\n",
      "2025-08-16 01:29:37,043 - DEBUG - findfont: score(FontEntry(fname='c:\\\\Users\\\\user\\\\Desktop\\\\moniepoint\\\\.venv\\\\Lib\\\\site-packages\\\\matplotlib\\\\mpl-data\\\\fonts\\\\ttf\\\\DejaVuSerif-Italic.ttf', name='DejaVu Serif', style='italic', variant='normal', weight=400, stretch='normal', size='scalable')) = 11.05\n",
      "2025-08-16 01:29:37,043 - DEBUG - findfont: score(FontEntry(fname='c:\\\\Users\\\\user\\\\Desktop\\\\moniepoint\\\\.venv\\\\Lib\\\\site-packages\\\\matplotlib\\\\mpl-data\\\\fonts\\\\ttf\\\\DejaVuSansMono-Oblique.ttf', name='DejaVu Sans Mono', style='oblique', variant='normal', weight=400, stretch='normal', size='scalable')) = 11.05\n",
      "2025-08-16 01:29:37,043 - DEBUG - findfont: score(FontEntry(fname='c:\\\\Users\\\\user\\\\Desktop\\\\moniepoint\\\\.venv\\\\Lib\\\\site-packages\\\\matplotlib\\\\mpl-data\\\\fonts\\\\ttf\\\\STIXSizThreeSymBol.ttf', name='STIXSizeThreeSym', style='normal', variant='normal', weight=700, stretch='normal', size='scalable')) = 10.335\n",
      "2025-08-16 01:29:37,043 - DEBUG - findfont: score(FontEntry(fname='c:\\\\Users\\\\user\\\\Desktop\\\\moniepoint\\\\.venv\\\\Lib\\\\site-packages\\\\matplotlib\\\\mpl-data\\\\fonts\\\\ttf\\\\STIXSizTwoSymReg.ttf', name='STIXSizeTwoSym', style='normal', variant='normal', weight=400, stretch='normal', size='scalable')) = 10.05\n",
      "2025-08-16 01:29:37,043 - DEBUG - findfont: score(FontEntry(fname='c:\\\\Users\\\\user\\\\Desktop\\\\moniepoint\\\\.venv\\\\Lib\\\\site-packages\\\\matplotlib\\\\mpl-data\\\\fonts\\\\ttf\\\\cmtt10.ttf', name='cmtt10', style='normal', variant='normal', weight=400, stretch='normal', size='scalable')) = 10.05\n",
      "2025-08-16 01:29:37,043 - DEBUG - findfont: score(FontEntry(fname='c:\\\\Users\\\\user\\\\Desktop\\\\moniepoint\\\\.venv\\\\Lib\\\\site-packages\\\\matplotlib\\\\mpl-data\\\\fonts\\\\ttf\\\\DejaVuSans-Oblique.ttf', name='DejaVu Sans', style='oblique', variant='normal', weight=400, stretch='normal', size='scalable')) = 1.05\n",
      "2025-08-16 01:29:37,043 - DEBUG - findfont: score(FontEntry(fname='c:\\\\Users\\\\user\\\\Desktop\\\\moniepoint\\\\.venv\\\\Lib\\\\site-packages\\\\matplotlib\\\\mpl-data\\\\fonts\\\\ttf\\\\DejaVuSerif-Bold.ttf', name='DejaVu Serif', style='normal', variant='normal', weight=700, stretch='normal', size='scalable')) = 10.335\n",
      "2025-08-16 01:29:37,043 - DEBUG - findfont: score(FontEntry(fname='c:\\\\Users\\\\user\\\\Desktop\\\\moniepoint\\\\.venv\\\\Lib\\\\site-packages\\\\matplotlib\\\\mpl-data\\\\fonts\\\\ttf\\\\STIXNonUniBol.ttf', name='STIXNonUnicode', style='normal', variant='normal', weight=700, stretch='normal', size='scalable')) = 10.335\n",
      "2025-08-16 01:29:37,043 - DEBUG - findfont: score(FontEntry(fname='c:\\\\Users\\\\user\\\\Desktop\\\\moniepoint\\\\.venv\\\\Lib\\\\site-packages\\\\matplotlib\\\\mpl-data\\\\fonts\\\\ttf\\\\cmsy10.ttf', name='cmsy10', style='normal', variant='normal', weight=400, stretch='normal', size='scalable')) = 10.05\n",
      "2025-08-16 01:29:37,043 - DEBUG - findfont: score(FontEntry(fname='c:\\\\Users\\\\user\\\\Desktop\\\\moniepoint\\\\.venv\\\\Lib\\\\site-packages\\\\matplotlib\\\\mpl-data\\\\fonts\\\\ttf\\\\DejaVuSerifDisplay.ttf', name='DejaVu Serif Display', style='normal', variant='normal', weight=400, stretch='normal', size='scalable')) = 10.05\n",
      "2025-08-16 01:29:37,043 - DEBUG - findfont: score(FontEntry(fname='c:\\\\Users\\\\user\\\\Desktop\\\\moniepoint\\\\.venv\\\\Lib\\\\site-packages\\\\matplotlib\\\\mpl-data\\\\fonts\\\\ttf\\\\DejaVuSans.ttf', name='DejaVu Sans', style='normal', variant='normal', weight=400, stretch='normal', size='scalable')) = 0.05\n",
      "2025-08-16 01:29:37,060 - DEBUG - findfont: score(FontEntry(fname='c:\\\\Users\\\\user\\\\Desktop\\\\moniepoint\\\\.venv\\\\Lib\\\\site-packages\\\\matplotlib\\\\mpl-data\\\\fonts\\\\ttf\\\\STIXGeneralBol.ttf', name='STIXGeneral', style='normal', variant='normal', weight=700, stretch='normal', size='scalable')) = 10.335\n",
      "2025-08-16 01:29:37,062 - DEBUG - findfont: score(FontEntry(fname='c:\\\\Users\\\\user\\\\Desktop\\\\moniepoint\\\\.venv\\\\Lib\\\\site-packages\\\\matplotlib\\\\mpl-data\\\\fonts\\\\ttf\\\\STIXSizFourSymReg.ttf', name='STIXSizeFourSym', style='normal', variant='normal', weight=400, stretch='normal', size='scalable')) = 10.05\n",
      "2025-08-16 01:29:37,063 - DEBUG - findfont: score(FontEntry(fname='c:\\\\Users\\\\user\\\\Desktop\\\\moniepoint\\\\.venv\\\\Lib\\\\site-packages\\\\matplotlib\\\\mpl-data\\\\fonts\\\\ttf\\\\DejaVuSansMono.ttf', name='DejaVu Sans Mono', style='normal', variant='normal', weight=400, stretch='normal', size='scalable')) = 10.05\n",
      "2025-08-16 01:29:37,065 - DEBUG - findfont: score(FontEntry(fname='c:\\\\Users\\\\user\\\\Desktop\\\\moniepoint\\\\.venv\\\\Lib\\\\site-packages\\\\matplotlib\\\\mpl-data\\\\fonts\\\\ttf\\\\STIXSizTwoSymBol.ttf', name='STIXSizeTwoSym', style='normal', variant='normal', weight=700, stretch='normal', size='scalable')) = 10.335\n",
      "2025-08-16 01:29:37,066 - DEBUG - findfont: score(FontEntry(fname='c:\\\\Users\\\\user\\\\Desktop\\\\moniepoint\\\\.venv\\\\Lib\\\\site-packages\\\\matplotlib\\\\mpl-data\\\\fonts\\\\ttf\\\\DejaVuSansDisplay.ttf', name='DejaVu Sans Display', style='normal', variant='normal', weight=400, stretch='normal', size='scalable')) = 10.05\n",
      "2025-08-16 01:29:37,067 - DEBUG - findfont: score(FontEntry(fname='c:\\\\Users\\\\user\\\\Desktop\\\\moniepoint\\\\.venv\\\\Lib\\\\site-packages\\\\matplotlib\\\\mpl-data\\\\fonts\\\\ttf\\\\STIXGeneral.ttf', name='STIXGeneral', style='normal', variant='normal', weight=400, stretch='normal', size='scalable')) = 10.05\n",
      "2025-08-16 01:29:37,068 - DEBUG - findfont: score(FontEntry(fname='c:\\\\Users\\\\user\\\\Desktop\\\\moniepoint\\\\.venv\\\\Lib\\\\site-packages\\\\matplotlib\\\\mpl-data\\\\fonts\\\\ttf\\\\DejaVuSans-BoldOblique.ttf', name='DejaVu Sans', style='oblique', variant='normal', weight=700, stretch='normal', size='scalable')) = 1.335\n",
      "2025-08-16 01:29:37,069 - DEBUG - findfont: score(FontEntry(fname='c:\\\\Users\\\\user\\\\Desktop\\\\moniepoint\\\\.venv\\\\Lib\\\\site-packages\\\\matplotlib\\\\mpl-data\\\\fonts\\\\ttf\\\\cmr10.ttf', name='cmr10', style='normal', variant='normal', weight=400, stretch='normal', size='scalable')) = 10.05\n",
      "2025-08-16 01:29:37,070 - DEBUG - findfont: score(FontEntry(fname='c:\\\\Users\\\\user\\\\Desktop\\\\moniepoint\\\\.venv\\\\Lib\\\\site-packages\\\\matplotlib\\\\mpl-data\\\\fonts\\\\ttf\\\\cmex10.ttf', name='cmex10', style='normal', variant='normal', weight=400, stretch='normal', size='scalable')) = 10.05\n",
      "2025-08-16 01:29:37,071 - DEBUG - findfont: score(FontEntry(fname='c:\\\\Users\\\\user\\\\Desktop\\\\moniepoint\\\\.venv\\\\Lib\\\\site-packages\\\\matplotlib\\\\mpl-data\\\\fonts\\\\ttf\\\\STIXSizThreeSymReg.ttf', name='STIXSizeThreeSym', style='normal', variant='normal', weight=400, stretch='normal', size='scalable')) = 10.05\n",
      "2025-08-16 01:29:37,072 - DEBUG - findfont: score(FontEntry(fname='c:\\\\Users\\\\user\\\\Desktop\\\\moniepoint\\\\.venv\\\\Lib\\\\site-packages\\\\matplotlib\\\\mpl-data\\\\fonts\\\\ttf\\\\cmb10.ttf', name='cmb10', style='normal', variant='normal', weight=400, stretch='normal', size='scalable')) = 10.05\n",
      "2025-08-16 01:29:37,073 - DEBUG - findfont: score(FontEntry(fname='c:\\\\Users\\\\user\\\\Desktop\\\\moniepoint\\\\.venv\\\\Lib\\\\site-packages\\\\matplotlib\\\\mpl-data\\\\fonts\\\\ttf\\\\DejaVuSerif.ttf', name='DejaVu Serif', style='normal', variant='normal', weight=400, stretch='normal', size='scalable')) = 10.05\n",
      "2025-08-16 01:29:37,073 - DEBUG - findfont: score(FontEntry(fname='c:\\\\Users\\\\user\\\\Desktop\\\\moniepoint\\\\.venv\\\\Lib\\\\site-packages\\\\matplotlib\\\\mpl-data\\\\fonts\\\\ttf\\\\STIXSizOneSymReg.ttf', name='STIXSizeOneSym', style='normal', variant='normal', weight=400, stretch='normal', size='scalable')) = 10.05\n",
      "2025-08-16 01:29:37,074 - DEBUG - findfont: score(FontEntry(fname='c:\\\\Users\\\\user\\\\Desktop\\\\moniepoint\\\\.venv\\\\Lib\\\\site-packages\\\\matplotlib\\\\mpl-data\\\\fonts\\\\ttf\\\\DejaVuSans-Bold.ttf', name='DejaVu Sans', style='normal', variant='normal', weight=700, stretch='normal', size='scalable')) = 0.33499999999999996\n",
      "2025-08-16 01:29:37,077 - DEBUG - findfont: score(FontEntry(fname='c:\\\\Users\\\\user\\\\Desktop\\\\moniepoint\\\\.venv\\\\Lib\\\\site-packages\\\\matplotlib\\\\mpl-data\\\\fonts\\\\ttf\\\\STIXGeneralItalic.ttf', name='STIXGeneral', style='italic', variant='normal', weight=400, stretch='normal', size='scalable')) = 11.05\n",
      "2025-08-16 01:29:37,078 - DEBUG - findfont: score(FontEntry(fname='c:\\\\Users\\\\user\\\\Desktop\\\\moniepoint\\\\.venv\\\\Lib\\\\site-packages\\\\matplotlib\\\\mpl-data\\\\fonts\\\\ttf\\\\STIXGeneralBolIta.ttf', name='STIXGeneral', style='italic', variant='normal', weight=700, stretch='normal', size='scalable')) = 11.335\n",
      "2025-08-16 01:29:37,080 - DEBUG - findfont: score(FontEntry(fname='c:\\\\Users\\\\user\\\\Desktop\\\\moniepoint\\\\.venv\\\\Lib\\\\site-packages\\\\matplotlib\\\\mpl-data\\\\fonts\\\\ttf\\\\STIXNonUniIta.ttf', name='STIXNonUnicode', style='italic', variant='normal', weight=400, stretch='normal', size='scalable')) = 11.05\n",
      "2025-08-16 01:29:37,081 - DEBUG - findfont: score(FontEntry(fname='C:\\\\Windows\\\\Fonts\\\\timesbd.ttf', name='Times New Roman', style='normal', variant='normal', weight=700, stretch='normal', size='scalable')) = 10.335\n",
      "2025-08-16 01:29:37,083 - DEBUG - findfont: score(FontEntry(fname='C:\\\\Windows\\\\Fonts\\\\corbell.ttf', name='Corbel', style='normal', variant='normal', weight=300, stretch='normal', size='scalable')) = 10.145\n",
      "2025-08-16 01:29:37,085 - DEBUG - findfont: score(FontEntry(fname='C:\\\\Windows\\\\Fonts\\\\holomdl2.ttf', name='HoloLens MDL2 Assets', style='normal', variant='normal', weight=400, stretch='normal', size='scalable')) = 10.05\n",
      "2025-08-16 01:29:37,086 - DEBUG - findfont: score(FontEntry(fname='C:\\\\Windows\\\\Fonts\\\\arial.ttf', name='Arial', style='normal', variant='normal', weight=400, stretch='normal', size='scalable')) = 6.413636363636363\n",
      "2025-08-16 01:29:37,087 - DEBUG - findfont: score(FontEntry(fname='C:\\\\Windows\\\\Fonts\\\\georgiai.ttf', name='Georgia', style='italic', variant='normal', weight=400, stretch='normal', size='scalable')) = 11.05\n",
      "2025-08-16 01:29:37,088 - DEBUG - findfont: score(FontEntry(fname='C:\\\\Windows\\\\Fonts\\\\ariblk.ttf', name='Arial', style='normal', variant='normal', weight=900, stretch='normal', size='scalable')) = 6.888636363636364\n",
      "2025-08-16 01:29:37,089 - DEBUG - findfont: score(FontEntry(fname='C:\\\\Windows\\\\Fonts\\\\Candarab.ttf', name='Candara', style='normal', variant='normal', weight=700, stretch='normal', size='scalable')) = 10.335\n",
      "2025-08-16 01:29:37,090 - DEBUG - findfont: score(FontEntry(fname='C:\\\\Windows\\\\Fonts\\\\timesi.ttf', name='Times New Roman', style='italic', variant='normal', weight=400, stretch='normal', size='scalable')) = 11.05\n",
      "2025-08-16 01:29:37,091 - DEBUG - findfont: score(FontEntry(fname='C:\\\\Windows\\\\Fonts\\\\framd.ttf', name='Franklin Gothic Medium', style='normal', variant='normal', weight=400, stretch='normal', size='scalable')) = 10.05\n",
      "2025-08-16 01:29:37,093 - DEBUG - findfont: score(FontEntry(fname='C:\\\\Windows\\\\Fonts\\\\simsunb.ttf', name='SimSun-ExtB', style='normal', variant='normal', weight=400, stretch='normal', size='scalable')) = 10.05\n",
      "2025-08-16 01:29:37,095 - DEBUG - findfont: score(FontEntry(fname='C:\\\\Windows\\\\Fonts\\\\consolai.ttf', name='Consolas', style='italic', variant='normal', weight=400, stretch='normal', size='scalable')) = 11.05\n",
      "2025-08-16 01:29:37,097 - DEBUG - findfont: score(FontEntry(fname='C:\\\\Windows\\\\Fonts\\\\arialbd.ttf', name='Arial', style='normal', variant='normal', weight=700, stretch='normal', size='scalable')) = 6.698636363636363\n",
      "2025-08-16 01:29:37,099 - DEBUG - findfont: score(FontEntry(fname='C:\\\\Windows\\\\Fonts\\\\seguibl.ttf', name='Segoe UI', style='normal', variant='normal', weight=900, stretch='normal', size='scalable')) = 10.525\n",
      "2025-08-16 01:29:37,100 - DEBUG - findfont: score(FontEntry(fname='C:\\\\Windows\\\\Fonts\\\\msyh.ttc', name='Microsoft YaHei', style='normal', variant='normal', weight=400, stretch='normal', size='scalable')) = 10.05\n",
      "2025-08-16 01:29:37,101 - DEBUG - findfont: score(FontEntry(fname='C:\\\\Windows\\\\Fonts\\\\verdanaz.ttf', name='Verdana', style='italic', variant='normal', weight=700, stretch='normal', size='scalable')) = 4.971363636363637\n",
      "2025-08-16 01:29:37,102 - DEBUG - findfont: score(FontEntry(fname='C:\\\\Windows\\\\Fonts\\\\trebucit.ttf', name='Trebuchet MS', style='italic', variant='normal', weight=400, stretch='normal', size='scalable')) = 11.05\n",
      "2025-08-16 01:29:37,103 - DEBUG - findfont: score(FontEntry(fname='C:\\\\Windows\\\\Fonts\\\\corbelz.ttf', name='Corbel', style='italic', variant='normal', weight=700, stretch='normal', size='scalable')) = 11.335\n",
      "2025-08-16 01:29:37,105 - DEBUG - findfont: score(FontEntry(fname='C:\\\\Windows\\\\Fonts\\\\comicz.ttf', name='Comic Sans MS', style='italic', variant='normal', weight=700, stretch='normal', size='scalable')) = 11.335\n",
      "2025-08-16 01:29:37,106 - DEBUG - findfont: score(FontEntry(fname='C:\\\\Windows\\\\Fonts\\\\verdana.ttf', name='Verdana', style='normal', variant='normal', weight=400, stretch='normal', size='scalable')) = 3.6863636363636365\n",
      "2025-08-16 01:29:37,107 - DEBUG - findfont: score(FontEntry(fname='C:\\\\Windows\\\\Fonts\\\\malgun.ttf', name='Malgun Gothic', style='normal', variant='normal', weight=400, stretch='normal', size='scalable')) = 10.05\n",
      "2025-08-16 01:29:37,108 - DEBUG - findfont: score(FontEntry(fname='C:\\\\Windows\\\\Fonts\\\\consolab.ttf', name='Consolas', style='normal', variant='normal', weight=700, stretch='normal', size='scalable')) = 10.335\n",
      "2025-08-16 01:29:37,111 - DEBUG - findfont: score(FontEntry(fname='C:\\\\Windows\\\\Fonts\\\\YuGothL.ttc', name='Yu Gothic', style='normal', variant='normal', weight=300, stretch='normal', size='scalable')) = 10.145\n",
      "2025-08-16 01:29:37,112 - DEBUG - findfont: score(FontEntry(fname='C:\\\\Windows\\\\Fonts\\\\calibril.ttf', name='Calibri', style='normal', variant='normal', weight=300, stretch='normal', size='scalable')) = 10.145\n",
      "2025-08-16 01:29:37,115 - DEBUG - findfont: score(FontEntry(fname='C:\\\\Windows\\\\Fonts\\\\seguisym.ttf', name='Segoe UI Symbol', style='normal', variant='normal', weight=400, stretch='normal', size='scalable')) = 10.05\n",
      "2025-08-16 01:29:37,116 - DEBUG - findfont: score(FontEntry(fname='C:\\\\Windows\\\\Fonts\\\\wingding.ttf', name='Wingdings', style='normal', variant='normal', weight=400, stretch='normal', size='scalable')) = 10.05\n",
      "2025-08-16 01:29:37,117 - DEBUG - findfont: score(FontEntry(fname='C:\\\\Windows\\\\Fonts\\\\seguibli.ttf', name='Segoe UI', style='italic', variant='normal', weight=900, stretch='normal', size='scalable')) = 11.525\n",
      "2025-08-16 01:29:37,119 - DEBUG - findfont: score(FontEntry(fname='C:\\\\Windows\\\\Fonts\\\\Candarali.ttf', name='Candara', style='italic', variant='normal', weight=400, stretch='normal', size='scalable')) = 11.05\n",
      "2025-08-16 01:29:37,120 - DEBUG - findfont: score(FontEntry(fname='C:\\\\Windows\\\\Fonts\\\\segoeprb.ttf', name='Segoe Print', style='normal', variant='normal', weight=700, stretch='normal', size='scalable')) = 10.335\n",
      "2025-08-16 01:29:37,120 - DEBUG - findfont: score(FontEntry(fname='C:\\\\Windows\\\\Fonts\\\\SitkaZ.ttc', name='Sitka Small', style='italic', variant='normal', weight=700, stretch='normal', size='scalable')) = 11.335\n",
      "2025-08-16 01:29:37,120 - DEBUG - findfont: score(FontEntry(fname='C:\\\\Windows\\\\Fonts\\\\segoepr.ttf', name='Segoe Print', style='normal', variant='normal', weight=400, stretch='normal', size='scalable')) = 10.05\n",
      "2025-08-16 01:29:37,120 - DEBUG - findfont: score(FontEntry(fname='C:\\\\Windows\\\\Fonts\\\\Sitka.ttc', name='Sitka Small', style='normal', variant='normal', weight=400, stretch='normal', size='scalable')) = 10.05\n",
      "2025-08-16 01:29:37,125 - DEBUG - findfont: score(FontEntry(fname='C:\\\\Windows\\\\Fonts\\\\SitkaB.ttc', name='Sitka Small', style='normal', variant='normal', weight=700, stretch='normal', size='scalable')) = 10.335\n",
      "2025-08-16 01:29:37,127 - DEBUG - findfont: score(FontEntry(fname='C:\\\\Windows\\\\Fonts\\\\calibriz.ttf', name='Calibri', style='italic', variant='normal', weight=700, stretch='normal', size='scalable')) = 11.335\n",
      "2025-08-16 01:29:37,129 - DEBUG - findfont: score(FontEntry(fname='C:\\\\Windows\\\\Fonts\\\\ebrimabd.ttf', name='Ebrima', style='normal', variant='normal', weight=700, stretch='normal', size='scalable')) = 10.335\n",
      "2025-08-16 01:29:37,130 - DEBUG - findfont: score(FontEntry(fname='C:\\\\Windows\\\\Fonts\\\\constanz.ttf', name='Constantia', style='italic', variant='normal', weight=700, stretch='normal', size='scalable')) = 11.335\n",
      "2025-08-16 01:29:37,132 - DEBUG - findfont: score(FontEntry(fname='C:\\\\Windows\\\\Fonts\\\\cambriaz.ttf', name='Cambria', style='italic', variant='normal', weight=700, stretch='normal', size='scalable')) = 11.335\n",
      "2025-08-16 01:29:37,139 - DEBUG - findfont: score(FontEntry(fname='C:\\\\Windows\\\\Fonts\\\\himalaya.ttf', name='Microsoft Himalaya', style='normal', variant='normal', weight=400, stretch='normal', size='scalable')) = 10.05\n",
      "2025-08-16 01:29:37,141 - DEBUG - findfont: score(FontEntry(fname='C:\\\\Windows\\\\Fonts\\\\malgunbd.ttf', name='Malgun Gothic', style='normal', variant='normal', weight=700, stretch='normal', size='scalable')) = 10.335\n",
      "2025-08-16 01:29:37,145 - DEBUG - findfont: score(FontEntry(fname='C:\\\\Windows\\\\Fonts\\\\SitkaI.ttc', name='Sitka Small', style='italic', variant='normal', weight=400, stretch='normal', size='scalable')) = 11.05\n",
      "2025-08-16 01:29:37,147 - DEBUG - findfont: score(FontEntry(fname='C:\\\\Windows\\\\Fonts\\\\CascadiaCode.ttf', name='Cascadia Code', style='normal', variant='normal', weight=400, stretch='normal', size='scalable')) = 10.05\n",
      "2025-08-16 01:29:37,150 - DEBUG - findfont: score(FontEntry(fname='C:\\\\Windows\\\\Fonts\\\\l_10646.ttf', name='Lucida Sans Unicode', style='normal', variant='normal', weight=400, stretch='normal', size='scalable')) = 10.05\n",
      "2025-08-16 01:29:37,150 - DEBUG - findfont: score(FontEntry(fname='C:\\\\Windows\\\\Fonts\\\\trebuc.ttf', name='Trebuchet MS', style='normal', variant='normal', weight=400, stretch='normal', size='scalable')) = 10.05\n",
      "2025-08-16 01:29:37,150 - DEBUG - findfont: score(FontEntry(fname='C:\\\\Windows\\\\Fonts\\\\segmdl2.ttf', name='Segoe MDL2 Assets', style='normal', variant='normal', weight=400, stretch='normal', size='scalable')) = 10.05\n",
      "2025-08-16 01:29:37,150 - DEBUG - findfont: score(FontEntry(fname='C:\\\\Windows\\\\Fonts\\\\mmrtextb.ttf', name='Myanmar Text', style='normal', variant='normal', weight=700, stretch='normal', size='scalable')) = 10.335\n",
      "2025-08-16 01:29:37,150 - DEBUG - findfont: score(FontEntry(fname='C:\\\\Windows\\\\Fonts\\\\Nirmala.ttf', name='Nirmala UI', style='normal', variant='normal', weight=400, stretch='normal', size='scalable')) = 10.05\n",
      "2025-08-16 01:29:37,161 - DEBUG - findfont: score(FontEntry(fname='C:\\\\Windows\\\\Fonts\\\\times.ttf', name='Times New Roman', style='normal', variant='normal', weight=400, stretch='normal', size='scalable')) = 10.05\n",
      "2025-08-16 01:29:37,163 - DEBUG - findfont: score(FontEntry(fname='C:\\\\Windows\\\\Fonts\\\\lucon.ttf', name='Lucida Console', style='normal', variant='normal', weight=400, stretch='normal', size='scalable')) = 10.05\n",
      "2025-08-16 01:29:37,165 - DEBUG - findfont: score(FontEntry(fname='C:\\\\Windows\\\\Fonts\\\\couri.ttf', name='Courier New', style='italic', variant='normal', weight=400, stretch='normal', size='scalable')) = 11.05\n",
      "2025-08-16 01:29:37,167 - DEBUG - findfont: score(FontEntry(fname='C:\\\\Windows\\\\Fonts\\\\segoeuisl.ttf', name='Segoe UI', style='normal', variant='normal', weight=350, stretch='normal', size='scalable')) = 10.0975\n",
      "2025-08-16 01:29:37,169 - DEBUG - findfont: score(FontEntry(fname='C:\\\\Windows\\\\Fonts\\\\CascadiaMono.ttf', name='Cascadia Mono', style='normal', variant='normal', weight=400, stretch='normal', size='scalable')) = 10.05\n",
      "2025-08-16 01:29:37,173 - DEBUG - findfont: score(FontEntry(fname='C:\\\\Windows\\\\Fonts\\\\Candarai.ttf', name='Candara', style='italic', variant='normal', weight=400, stretch='normal', size='scalable')) = 11.05\n",
      "2025-08-16 01:29:37,174 - DEBUG - findfont: score(FontEntry(fname='C:\\\\Windows\\\\Fonts\\\\verdanab.ttf', name='Verdana', style='normal', variant='normal', weight=700, stretch='normal', size='scalable')) = 3.9713636363636367\n",
      "2025-08-16 01:29:37,178 - DEBUG - findfont: score(FontEntry(fname='C:\\\\Windows\\\\Fonts\\\\pala.ttf', name='Palatino Linotype', style='normal', variant='normal', weight=400, stretch='normal', size='scalable')) = 10.05\n",
      "2025-08-16 01:29:37,181 - DEBUG - findfont: score(FontEntry(fname='C:\\\\Windows\\\\Fonts\\\\calibrii.ttf', name='Calibri', style='italic', variant='normal', weight=400, stretch='normal', size='scalable')) = 11.05\n",
      "2025-08-16 01:29:37,183 - DEBUG - findfont: score(FontEntry(fname='C:\\\\Windows\\\\Fonts\\\\corbeli.ttf', name='Corbel', style='italic', variant='normal', weight=400, stretch='normal', size='scalable')) = 11.05\n",
      "2025-08-16 01:29:37,185 - DEBUG - findfont: score(FontEntry(fname='C:\\\\Windows\\\\Fonts\\\\YuGothR.ttc', name='Yu Gothic', style='normal', variant='normal', weight=400, stretch='normal', size='scalable')) = 10.05\n",
      "2025-08-16 01:29:37,188 - DEBUG - findfont: score(FontEntry(fname='C:\\\\Windows\\\\Fonts\\\\ntailu.ttf', name='Microsoft New Tai Lue', style='normal', variant='normal', weight=400, stretch='normal', size='scalable')) = 10.05\n",
      "2025-08-16 01:29:37,190 - DEBUG - findfont: score(FontEntry(fname='C:\\\\Windows\\\\Fonts\\\\msjhbd.ttc', name='Microsoft JhengHei', style='normal', variant='normal', weight=700, stretch='normal', size='scalable')) = 10.335\n",
      "2025-08-16 01:29:37,192 - DEBUG - findfont: score(FontEntry(fname='C:\\\\Windows\\\\Fonts\\\\msgothic.ttc', name='MS Gothic', style='normal', variant='normal', weight=400, stretch='normal', size='scalable')) = 10.05\n",
      "2025-08-16 01:29:37,194 - DEBUG - findfont: score(FontEntry(fname='C:\\\\Windows\\\\Fonts\\\\taileb.ttf', name='Microsoft Tai Le', style='normal', variant='normal', weight=700, stretch='normal', size='scalable')) = 10.335\n",
      "2025-08-16 01:29:37,196 - DEBUG - findfont: score(FontEntry(fname='C:\\\\Windows\\\\Fonts\\\\taile.ttf', name='Microsoft Tai Le', style='normal', variant='normal', weight=400, stretch='normal', size='scalable')) = 10.05\n",
      "2025-08-16 01:29:37,198 - DEBUG - findfont: score(FontEntry(fname='C:\\\\Windows\\\\Fonts\\\\cour.ttf', name='Courier New', style='normal', variant='normal', weight=400, stretch='normal', size='scalable')) = 10.05\n",
      "2025-08-16 01:29:37,200 - DEBUG - findfont: score(FontEntry(fname='C:\\\\Windows\\\\Fonts\\\\msyi.ttf', name='Microsoft Yi Baiti', style='normal', variant='normal', weight=400, stretch='normal', size='scalable')) = 10.05\n",
      "2025-08-16 01:29:37,202 - DEBUG - findfont: score(FontEntry(fname='C:\\\\Windows\\\\Fonts\\\\msjhl.ttc', name='Microsoft JhengHei', style='normal', variant='normal', weight=290, stretch='normal', size='scalable')) = 10.1545\n",
      "2025-08-16 01:29:37,203 - DEBUG - findfont: score(FontEntry(fname='C:\\\\Windows\\\\Fonts\\\\verdanai.ttf', name='Verdana', style='italic', variant='normal', weight=400, stretch='normal', size='scalable')) = 4.6863636363636365\n",
      "2025-08-16 01:29:37,205 - DEBUG - findfont: score(FontEntry(fname='C:\\\\Windows\\\\Fonts\\\\cambria.ttc', name='Cambria', style='normal', variant='normal', weight=400, stretch='normal', size='scalable')) = 10.05\n",
      "2025-08-16 01:29:37,207 - DEBUG - findfont: score(FontEntry(fname='C:\\\\Windows\\\\Fonts\\\\ntailub.ttf', name='Microsoft New Tai Lue', style='normal', variant='normal', weight=700, stretch='normal', size='scalable')) = 10.335\n",
      "2025-08-16 01:29:37,209 - DEBUG - findfont: score(FontEntry(fname='C:\\\\Windows\\\\Fonts\\\\tahoma.ttf', name='Tahoma', style='normal', variant='normal', weight=400, stretch='normal', size='scalable')) = 10.05\n",
      "2025-08-16 01:29:37,212 - DEBUG - findfont: score(FontEntry(fname='C:\\\\Windows\\\\Fonts\\\\NirmalaS.ttf', name='Nirmala UI', style='normal', variant='normal', weight=350, stretch='normal', size='scalable')) = 10.0975\n",
      "2025-08-16 01:29:37,214 - DEBUG - findfont: score(FontEntry(fname='C:\\\\Windows\\\\Fonts\\\\comici.ttf', name='Comic Sans MS', style='italic', variant='normal', weight=400, stretch='normal', size='scalable')) = 11.05\n",
      "2025-08-16 01:29:37,218 - DEBUG - findfont: score(FontEntry(fname='C:\\\\Windows\\\\Fonts\\\\Gabriola.ttf', name='Gabriola', style='normal', variant='normal', weight=400, stretch='normal', size='scalable')) = 10.05\n",
      "2025-08-16 01:29:37,220 - DEBUG - findfont: score(FontEntry(fname='C:\\\\Windows\\\\Fonts\\\\courbd.ttf', name='Courier New', style='normal', variant='normal', weight=700, stretch='normal', size='scalable')) = 10.335\n",
      "2025-08-16 01:29:37,221 - DEBUG - findfont: score(FontEntry(fname='C:\\\\Windows\\\\Fonts\\\\mmrtext.ttf', name='Myanmar Text', style='normal', variant='normal', weight=400, stretch='normal', size='scalable')) = 10.05\n",
      "2025-08-16 01:29:37,248 - DEBUG - findfont: score(FontEntry(fname='C:\\\\Windows\\\\Fonts\\\\segoeuiz.ttf', name='Segoe UI', style='italic', variant='normal', weight=700, stretch='normal', size='scalable')) = 11.335\n",
      "2025-08-16 01:29:37,269 - DEBUG - findfont: score(FontEntry(fname='C:\\\\Windows\\\\Fonts\\\\msyhl.ttc', name='Microsoft YaHei', style='normal', variant='normal', weight=290, stretch='normal', size='scalable')) = 10.1545\n",
      "2025-08-16 01:29:37,282 - DEBUG - findfont: score(FontEntry(fname='C:\\\\Windows\\\\Fonts\\\\seguisb.ttf', name='Segoe UI', style='normal', variant='normal', weight=600, stretch='normal', size='scalable')) = 10.24\n",
      "2025-08-16 01:29:37,288 - DEBUG - findfont: score(FontEntry(fname='C:\\\\Windows\\\\Fonts\\\\courbi.ttf', name='Courier New', style='italic', variant='normal', weight=700, stretch='normal', size='scalable')) = 11.335\n",
      "2025-08-16 01:29:37,296 - DEBUG - findfont: score(FontEntry(fname='C:\\\\Windows\\\\Fonts\\\\corbel.ttf', name='Corbel', style='normal', variant='normal', weight=400, stretch='normal', size='scalable')) = 10.05\n",
      "2025-08-16 01:29:37,304 - DEBUG - findfont: score(FontEntry(fname='C:\\\\Windows\\\\Fonts\\\\ebrima.ttf', name='Ebrima', style='normal', variant='normal', weight=400, stretch='normal', size='scalable')) = 10.05\n",
      "2025-08-16 01:29:37,306 - DEBUG - findfont: score(FontEntry(fname='C:\\\\Windows\\\\Fonts\\\\trebucbd.ttf', name='Trebuchet MS', style='normal', variant='normal', weight=700, stretch='normal', size='scalable')) = 10.335\n",
      "2025-08-16 01:29:37,323 - DEBUG - findfont: score(FontEntry(fname='C:\\\\Windows\\\\Fonts\\\\seguisbi.ttf', name='Segoe UI', style='italic', variant='normal', weight=600, stretch='normal', size='scalable')) = 11.24\n",
      "2025-08-16 01:29:37,338 - DEBUG - findfont: score(FontEntry(fname='C:\\\\Windows\\\\Fonts\\\\seguihis.ttf', name='Segoe UI Historic', style='normal', variant='normal', weight=400, stretch='normal', size='scalable')) = 10.05\n",
      "2025-08-16 01:29:37,340 - DEBUG - findfont: score(FontEntry(fname='C:\\\\Windows\\\\Fonts\\\\georgiaz.ttf', name='Georgia', style='italic', variant='normal', weight=700, stretch='normal', size='scalable')) = 11.335\n",
      "2025-08-16 01:29:37,346 - DEBUG - findfont: score(FontEntry(fname='C:\\\\Windows\\\\Fonts\\\\Candara.ttf', name='Candara', style='normal', variant='normal', weight=400, stretch='normal', size='scalable')) = 10.05\n",
      "2025-08-16 01:29:37,354 - DEBUG - findfont: score(FontEntry(fname='C:\\\\Windows\\\\Fonts\\\\mvboli.ttf', name='MV Boli', style='normal', variant='normal', weight=400, stretch='normal', size='scalable')) = 10.05\n",
      "2025-08-16 01:29:37,355 - DEBUG - findfont: score(FontEntry(fname='C:\\\\Windows\\\\Fonts\\\\arialbi.ttf', name='Arial', style='italic', variant='normal', weight=700, stretch='normal', size='scalable')) = 7.698636363636363\n",
      "2025-08-16 01:29:37,364 - DEBUG - findfont: score(FontEntry(fname='C:\\\\Windows\\\\Fonts\\\\segoeuil.ttf', name='Segoe UI', style='normal', variant='normal', weight=300, stretch='normal', size='scalable')) = 10.145\n",
      "2025-08-16 01:29:37,370 - DEBUG - findfont: score(FontEntry(fname='C:\\\\Windows\\\\Fonts\\\\YuGothB.ttc', name='Yu Gothic', style='normal', variant='normal', weight=700, stretch='normal', size='scalable')) = 10.335\n",
      "2025-08-16 01:29:37,372 - DEBUG - findfont: score(FontEntry(fname='C:\\\\Windows\\\\Fonts\\\\webdings.ttf', name='Webdings', style='normal', variant='normal', weight=400, stretch='normal', size='scalable')) = 10.05\n",
      "2025-08-16 01:29:37,375 - DEBUG - findfont: score(FontEntry(fname='C:\\\\Windows\\\\Fonts\\\\ariali.ttf', name='Arial', style='italic', variant='normal', weight=400, stretch='normal', size='scalable')) = 7.413636363636363\n",
      "2025-08-16 01:29:37,379 - DEBUG - findfont: score(FontEntry(fname='C:\\\\Windows\\\\Fonts\\\\consola.ttf', name='Consolas', style='normal', variant='normal', weight=400, stretch='normal', size='scalable')) = 10.05\n",
      "2025-08-16 01:29:37,381 - DEBUG - findfont: score(FontEntry(fname='C:\\\\Windows\\\\Fonts\\\\micross.ttf', name='Microsoft Sans Serif', style='normal', variant='normal', weight=400, stretch='normal', size='scalable')) = 10.05\n",
      "2025-08-16 01:29:37,384 - DEBUG - findfont: score(FontEntry(fname='C:\\\\Windows\\\\Fonts\\\\simsun.ttc', name='SimSun', style='normal', variant='normal', weight=400, stretch='normal', size='scalable')) = 10.05\n",
      "2025-08-16 01:29:37,386 - DEBUG - findfont: score(FontEntry(fname='C:\\\\Windows\\\\Fonts\\\\comicbd.ttf', name='Comic Sans MS', style='normal', variant='normal', weight=700, stretch='normal', size='scalable')) = 10.335\n",
      "2025-08-16 01:29:37,388 - DEBUG - findfont: score(FontEntry(fname='C:\\\\Windows\\\\Fonts\\\\phagspab.ttf', name='Microsoft PhagsPa', style='normal', variant='normal', weight=700, stretch='normal', size='scalable')) = 10.335\n",
      "2025-08-16 01:29:37,390 - DEBUG - findfont: score(FontEntry(fname='C:\\\\Windows\\\\Fonts\\\\comic.ttf', name='Comic Sans MS', style='normal', variant='normal', weight=400, stretch='normal', size='scalable')) = 10.05\n",
      "2025-08-16 01:29:37,394 - DEBUG - findfont: score(FontEntry(fname='C:\\\\Windows\\\\Fonts\\\\corbelli.ttf', name='Corbel', style='italic', variant='normal', weight=300, stretch='normal', size='scalable')) = 11.145\n",
      "2025-08-16 01:29:37,396 - DEBUG - findfont: score(FontEntry(fname='C:\\\\Windows\\\\Fonts\\\\NirmalaB.ttf', name='Nirmala UI', style='normal', variant='normal', weight=700, stretch='normal', size='scalable')) = 10.335\n",
      "2025-08-16 01:29:37,399 - DEBUG - findfont: score(FontEntry(fname='C:\\\\Windows\\\\Fonts\\\\segoeui.ttf', name='Segoe UI', style='normal', variant='normal', weight=400, stretch='normal', size='scalable')) = 10.05\n",
      "2025-08-16 01:29:37,401 - DEBUG - findfont: score(FontEntry(fname='C:\\\\Windows\\\\Fonts\\\\palabi.ttf', name='Palatino Linotype', style='italic', variant='normal', weight=700, stretch='normal', size='scalable')) = 11.335\n",
      "2025-08-16 01:29:37,403 - DEBUG - findfont: score(FontEntry(fname='C:\\\\Windows\\\\Fonts\\\\impact.ttf', name='Impact', style='normal', variant='normal', weight=400, stretch='normal', size='scalable')) = 10.05\n",
      "2025-08-16 01:29:37,408 - DEBUG - findfont: score(FontEntry(fname='C:\\\\Windows\\\\Fonts\\\\bahnschrift.ttf', name='Bahnschrift', style='normal', variant='normal', weight=400, stretch='normal', size='scalable')) = 10.05\n",
      "2025-08-16 01:29:37,415 - DEBUG - findfont: score(FontEntry(fname='C:\\\\Windows\\\\Fonts\\\\Candaraz.ttf', name='Candara', style='italic', variant='normal', weight=700, stretch='normal', size='scalable')) = 11.335\n",
      "2025-08-16 01:29:37,418 - DEBUG - findfont: score(FontEntry(fname='C:\\\\Windows\\\\Fonts\\\\msjh.ttc', name='Microsoft JhengHei', style='normal', variant='normal', weight=400, stretch='normal', size='scalable')) = 10.05\n",
      "2025-08-16 01:29:37,424 - DEBUG - findfont: score(FontEntry(fname='C:\\\\Windows\\\\Fonts\\\\segoescb.ttf', name='Segoe Script', style='normal', variant='normal', weight=700, stretch='normal', size='scalable')) = 10.335\n",
      "2025-08-16 01:29:37,428 - DEBUG - findfont: score(FontEntry(fname='C:\\\\Windows\\\\Fonts\\\\cambriab.ttf', name='Cambria', style='normal', variant='normal', weight=700, stretch='normal', size='scalable')) = 10.335\n",
      "2025-08-16 01:29:37,430 - DEBUG - findfont: score(FontEntry(fname='C:\\\\Windows\\\\Fonts\\\\segoesc.ttf', name='Segoe Script', style='normal', variant='normal', weight=400, stretch='normal', size='scalable')) = 10.05\n",
      "2025-08-16 01:29:37,434 - DEBUG - findfont: score(FontEntry(fname='C:\\\\Windows\\\\Fonts\\\\segoeuib.ttf', name='Segoe UI', style='normal', variant='normal', weight=700, stretch='normal', size='scalable')) = 10.335\n",
      "2025-08-16 01:29:37,438 - DEBUG - findfont: score(FontEntry(fname='C:\\\\Windows\\\\Fonts\\\\LeelUIsl.ttf', name='Leelawadee UI', style='normal', variant='normal', weight=350, stretch='normal', size='scalable')) = 10.0975\n",
      "2025-08-16 01:29:37,440 - DEBUG - findfont: score(FontEntry(fname='C:\\\\Windows\\\\Fonts\\\\mingliub.ttc', name='MingLiU-ExtB', style='normal', variant='normal', weight=400, stretch='normal', size='scalable')) = 10.05\n",
      "2025-08-16 01:29:37,441 - DEBUG - findfont: score(FontEntry(fname='C:\\\\Windows\\\\Fonts\\\\calibrili.ttf', name='Calibri', style='italic', variant='normal', weight=300, stretch='normal', size='scalable')) = 11.145\n",
      "2025-08-16 01:29:37,444 - DEBUG - findfont: score(FontEntry(fname='C:\\\\Windows\\\\Fonts\\\\gadugib.ttf', name='Gadugi', style='normal', variant='normal', weight=700, stretch='normal', size='scalable')) = 10.335\n",
      "2025-08-16 01:29:37,454 - DEBUG - findfont: score(FontEntry(fname='C:\\\\Windows\\\\Fonts\\\\constani.ttf', name='Constantia', style='italic', variant='normal', weight=400, stretch='normal', size='scalable')) = 11.05\n",
      "2025-08-16 01:29:37,456 - DEBUG - findfont: score(FontEntry(fname='C:\\\\Windows\\\\Fonts\\\\seguili.ttf', name='Segoe UI', style='italic', variant='normal', weight=300, stretch='normal', size='scalable')) = 11.145\n",
      "2025-08-16 01:29:37,461 - DEBUG - findfont: score(FontEntry(fname='C:\\\\Windows\\\\Fonts\\\\LeelaUIb.ttf', name='Leelawadee UI', style='normal', variant='normal', weight=700, stretch='normal', size='scalable')) = 10.335\n",
      "2025-08-16 01:29:37,464 - DEBUG - findfont: score(FontEntry(fname='C:\\\\Windows\\\\Fonts\\\\georgiab.ttf', name='Georgia', style='normal', variant='normal', weight=700, stretch='normal', size='scalable')) = 10.335\n",
      "2025-08-16 01:29:37,468 - DEBUG - findfont: score(FontEntry(fname='C:\\\\Windows\\\\Fonts\\\\YuGothM.ttc', name='Yu Gothic', style='normal', variant='normal', weight=500, stretch='normal', size='scalable')) = 10.145\n",
      "2025-08-16 01:29:37,470 - DEBUG - findfont: score(FontEntry(fname='C:\\\\Windows\\\\Fonts\\\\constanb.ttf', name='Constantia', style='normal', variant='normal', weight=700, stretch='normal', size='scalable')) = 10.335\n",
      "2025-08-16 01:29:37,472 - DEBUG - findfont: score(FontEntry(fname='C:\\\\Windows\\\\Fonts\\\\palab.ttf', name='Palatino Linotype', style='normal', variant='normal', weight=700, stretch='normal', size='scalable')) = 10.335\n",
      "2025-08-16 01:29:37,482 - DEBUG - findfont: score(FontEntry(fname='C:\\\\Windows\\\\Fonts\\\\calibri.ttf', name='Calibri', style='normal', variant='normal', weight=400, stretch='normal', size='scalable')) = 10.05\n",
      "2025-08-16 01:29:37,484 - DEBUG - findfont: score(FontEntry(fname='C:\\\\Windows\\\\Fonts\\\\monbaiti.ttf', name='Mongolian Baiti', style='normal', variant='normal', weight=400, stretch='normal', size='scalable')) = 10.05\n",
      "2025-08-16 01:29:37,488 - DEBUG - findfont: score(FontEntry(fname='C:\\\\Windows\\\\Fonts\\\\tahomabd.ttf', name='Tahoma', style='normal', variant='normal', weight=700, stretch='normal', size='scalable')) = 10.335\n",
      "2025-08-16 01:29:37,491 - DEBUG - findfont: score(FontEntry(fname='C:\\\\Windows\\\\Fonts\\\\phagspa.ttf', name='Microsoft PhagsPa', style='normal', variant='normal', weight=400, stretch='normal', size='scalable')) = 10.05\n",
      "2025-08-16 01:29:37,494 - DEBUG - findfont: score(FontEntry(fname='C:\\\\Windows\\\\Fonts\\\\malgunsl.ttf', name='Malgun Gothic', style='normal', variant='normal', weight=300, stretch='normal', size='scalable')) = 10.145\n",
      "2025-08-16 01:29:37,497 - DEBUG - findfont: score(FontEntry(fname='C:\\\\Windows\\\\Fonts\\\\seguiemj.ttf', name='Segoe UI Emoji', style='normal', variant='normal', weight=400, stretch='normal', size='scalable')) = 10.05\n",
      "2025-08-16 01:29:37,499 - DEBUG - findfont: score(FontEntry(fname='C:\\\\Windows\\\\Fonts\\\\constan.ttf', name='Constantia', style='normal', variant='normal', weight=400, stretch='normal', size='scalable')) = 10.05\n",
      "2025-08-16 01:29:37,501 - DEBUG - findfont: score(FontEntry(fname='C:\\\\Windows\\\\Fonts\\\\framdit.ttf', name='Franklin Gothic Medium', style='italic', variant='normal', weight=400, stretch='normal', size='scalable')) = 11.05\n",
      "2025-08-16 01:29:37,503 - DEBUG - findfont: score(FontEntry(fname='C:\\\\Windows\\\\Fonts\\\\segoeuii.ttf', name='Segoe UI', style='italic', variant='normal', weight=400, stretch='normal', size='scalable')) = 11.05\n",
      "2025-08-16 01:29:37,505 - DEBUG - findfont: score(FontEntry(fname='C:\\\\Windows\\\\Fonts\\\\consolaz.ttf', name='Consolas', style='italic', variant='normal', weight=700, stretch='normal', size='scalable')) = 11.335\n",
      "2025-08-16 01:29:37,505 - DEBUG - findfont: score(FontEntry(fname='C:\\\\Windows\\\\Fonts\\\\javatext.ttf', name='Javanese Text', style='normal', variant='normal', weight=400, stretch='normal', size='scalable')) = 10.05\n",
      "2025-08-16 01:29:37,505 - DEBUG - findfont: score(FontEntry(fname='C:\\\\Windows\\\\Fonts\\\\LeelawUI.ttf', name='Leelawadee UI', style='normal', variant='normal', weight=400, stretch='normal', size='scalable')) = 10.05\n",
      "2025-08-16 01:29:37,510 - DEBUG - findfont: score(FontEntry(fname='C:\\\\Windows\\\\Fonts\\\\calibrib.ttf', name='Calibri', style='normal', variant='normal', weight=700, stretch='normal', size='scalable')) = 10.335\n",
      "2025-08-16 01:29:37,512 - DEBUG - findfont: score(FontEntry(fname='C:\\\\Windows\\\\Fonts\\\\cambriai.ttf', name='Cambria', style='italic', variant='normal', weight=400, stretch='normal', size='scalable')) = 11.05\n",
      "2025-08-16 01:29:37,514 - DEBUG - findfont: score(FontEntry(fname='C:\\\\Windows\\\\Fonts\\\\seguisli.ttf', name='Segoe UI', style='italic', variant='normal', weight=350, stretch='normal', size='scalable')) = 11.0975\n",
      "2025-08-16 01:29:37,516 - DEBUG - findfont: score(FontEntry(fname='C:\\\\Windows\\\\Fonts\\\\msyhbd.ttc', name='Microsoft YaHei', style='normal', variant='normal', weight=700, stretch='normal', size='scalable')) = 10.335\n",
      "2025-08-16 01:29:37,519 - DEBUG - findfont: score(FontEntry(fname='C:\\\\Windows\\\\Fonts\\\\corbelb.ttf', name='Corbel', style='normal', variant='normal', weight=700, stretch='normal', size='scalable')) = 10.335\n",
      "2025-08-16 01:29:37,521 - DEBUG - findfont: score(FontEntry(fname='C:\\\\Windows\\\\Fonts\\\\palai.ttf', name='Palatino Linotype', style='italic', variant='normal', weight=400, stretch='normal', size='scalable')) = 11.05\n",
      "2025-08-16 01:29:37,522 - DEBUG - findfont: score(FontEntry(fname='C:\\\\Windows\\\\Fonts\\\\georgia.ttf', name='Georgia', style='normal', variant='normal', weight=400, stretch='normal', size='scalable')) = 10.05\n",
      "2025-08-16 01:29:37,522 - DEBUG - findfont: score(FontEntry(fname='C:\\\\Windows\\\\Fonts\\\\sylfaen.ttf', name='Sylfaen', style='normal', variant='normal', weight=400, stretch='normal', size='scalable')) = 10.05\n",
      "2025-08-16 01:29:37,525 - DEBUG - findfont: score(FontEntry(fname='C:\\\\Windows\\\\Fonts\\\\trebucbi.ttf', name='Trebuchet MS', style='italic', variant='normal', weight=700, stretch='normal', size='scalable')) = 11.335\n",
      "2025-08-16 01:29:37,527 - DEBUG - findfont: score(FontEntry(fname='C:\\\\Windows\\\\Fonts\\\\Inkfree.ttf', name='Ink Free', style='normal', variant='normal', weight=400, stretch='normal', size='scalable')) = 10.05\n",
      "2025-08-16 01:29:37,529 - DEBUG - findfont: score(FontEntry(fname='C:\\\\Windows\\\\Fonts\\\\symbol.ttf', name='Symbol', style='normal', variant='normal', weight=400, stretch='normal', size='scalable')) = 10.05\n",
      "2025-08-16 01:29:37,532 - DEBUG - findfont: score(FontEntry(fname='C:\\\\Windows\\\\Fonts\\\\timesbi.ttf', name='Times New Roman', style='italic', variant='normal', weight=700, stretch='normal', size='scalable')) = 11.335\n",
      "2025-08-16 01:29:37,534 - DEBUG - findfont: score(FontEntry(fname='C:\\\\Windows\\\\Fonts\\\\Candaral.ttf', name='Candara', style='normal', variant='normal', weight=400, stretch='normal', size='scalable')) = 10.05\n",
      "2025-08-16 01:29:37,536 - DEBUG - findfont: score(FontEntry(fname='C:\\\\Windows\\\\Fonts\\\\gadugi.ttf', name='Gadugi', style='normal', variant='normal', weight=400, stretch='normal', size='scalable')) = 10.05\n",
      "2025-08-16 01:29:37,537 - DEBUG - findfont: Matching sans\\-serif:style=normal:variant=normal:weight=normal:stretch=normal:size=12.0 to DejaVu Sans ('c:\\\\Users\\\\user\\\\Desktop\\\\moniepoint\\\\.venv\\\\Lib\\\\site-packages\\\\matplotlib\\\\mpl-data\\\\fonts\\\\ttf\\\\DejaVuSans.ttf') with score of 0.050000.\n"
     ]
    },
    {
     "data": {
      "image/png": "[encoded data removed]",
      "text/plain": [
       "<Figure size 800x500 with 1 Axes>"
      ]
     },
     "metadata": {},
     "output_type": "display_data"
    }
   ],
   "source": [
    "# Assuming you want to explain the first anomaly in the dataset\n",
    "first_index = X.index[0]\n",
    "detector.plot_feature_contributions(first_index)"
   ]
  },
  {
   "cell_type": "markdown",
   "id": "7e25d26c",
   "metadata": {},
   "source": [
    "**Ranking**\n",
    "\n",
    "- Features are sorted by absolute contribution — top = most important for this prediction.\n",
    "\n",
    "- In the plot:\n",
    "\n",
    "1. new_device (largest contributor to anomaly score)\n",
    "\n",
    "2. unique_locations_used (second most important)\n",
    "\n",
    "3. day_of_month, is_weekend, transaction_count_last_7_days (less but still relevant)"
   ]
  },
  {
   "cell_type": "code",
   "execution_count": 63,
   "id": "e9ab8b06",
   "metadata": {},
   "outputs": [
    {
     "name": "stderr",
     "output_type": "stream",
     "text": [
      "2025-08-16 01:40:40,342 - INFO - Created directory at: artifacts/model/\n"
     ]
    }
   ],
   "source": [
    "import joblib\n",
    "from src.anomaly_detection.utils.common import create_directories\n",
    "\n",
    "# Create the directory for storing the model\n",
    "create_directories([\"artifacts/model/\"])\n",
    "\n",
    "# Define base path\n",
    "base = \"artifacts/model/\"\n",
    "\n",
    "# Save model\n",
    "detector.save_model(path=f\"{base}isolation_forest_model.joblib\")"
   ]
  },
  {
   "cell_type": "code",
   "execution_count": null,
   "id": "3cb61429",
   "metadata": {},
   "outputs": [],
   "source": []
  }
 ],
 "metadata": {
  "kernelspec": {
   "display_name": "moniepoint",
   "language": "python",
   "name": "python3"
  },
  "language_info": {
   "codemirror_mode": {
    "name": "ipython",
    "version": 3
   },
   "file_extension": ".py",
   "mimetype": "text/x-python",
   "name": "python",
   "nbconvert_exporter": "python",
   "pygments_lexer": "ipython3",
   "version": "3.11.13"
  }
 },
 "nbformat": 4,
 "nbformat_minor": 5
}
