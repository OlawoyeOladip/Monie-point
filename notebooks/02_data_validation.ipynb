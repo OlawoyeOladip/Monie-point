{
 "cells": [
  {
   "cell_type": "markdown",
   "id": "1468d725",
   "metadata": {},
   "source": [
    "## Data Validation"
   ]
  },
  {
   "cell_type": "code",
   "execution_count": 2,
   "id": "bedfa5f1",
   "metadata": {},
   "outputs": [
    {
     "data": {
      "text/plain": [
       "'c:\\\\Users\\\\user\\\\Desktop\\\\moniepoint\\\\notebooks'"
      ]
     },
     "execution_count": 2,
     "metadata": {},
     "output_type": "execute_result"
    }
   ],
   "source": [
    "%pwd"
   ]
  },
  {
   "cell_type": "code",
   "execution_count": 3,
   "id": "7c4b7d73",
   "metadata": {},
   "outputs": [],
   "source": [
    "from dataclasses import dataclass\n",
    "from pathlib import Path\n",
    "import os"
   ]
  },
  {
   "cell_type": "code",
   "execution_count": 4,
   "id": "4140fcee",
   "metadata": {},
   "outputs": [],
   "source": [
    "os.chdir(\"../\")"
   ]
  },
  {
   "cell_type": "code",
   "execution_count": 5,
   "id": "48c16e15",
   "metadata": {},
   "outputs": [
    {
     "data": {
      "text/plain": [
       "'c:\\\\Users\\\\user\\\\Desktop\\\\moniepoint'"
      ]
     },
     "execution_count": 5,
     "metadata": {},
     "output_type": "execute_result"
    }
   ],
   "source": [
    "%pwd"
   ]
  },
  {
   "cell_type": "code",
   "execution_count": 6,
   "id": "15aea9fc",
   "metadata": {},
   "outputs": [],
   "source": [
    "from src.anomaly_detection.utils.common import load_yaml, create_directories"
   ]
  },
  {
   "cell_type": "code",
   "execution_count": 8,
   "id": "b92dec70",
   "metadata": {},
   "outputs": [
    {
     "name": "stdout",
     "output_type": "stream",
     "text": [
      "C:\\Users\\user\\Desktop\\moniepoint\n"
     ]
    }
   ],
   "source": [
    "from src.anomaly_detection.constant import *"
   ]
  },
  {
   "cell_type": "code",
   "execution_count": 10,
   "id": "243af258",
   "metadata": {},
   "outputs": [],
   "source": [
    "from typing import Optional"
   ]
  },
  {
   "cell_type": "code",
   "execution_count": 25,
   "id": "f3ea3dea",
   "metadata": {},
   "outputs": [],
   "source": [
    "@dataclass(frozen=True)\n",
    "class DataValidationConfig:\n",
    "    \"\"\"\n",
    "    Configuration class for data validation settings.\n",
    "\n",
    "    Attributes:\n",
    "        root_dir (Path): Root directory for storing data validation artifacts.\n",
    "        STATUS_FILE (str): Path to the file where the validation status will be recorded.\n",
    "        unzip_data_dir (Path): Directory containing the extracted data for validation.\n",
    "        all_schema (dict): Dictionary defining the expected schema (column names and data types).\n",
    "\n",
    "    Notes:\n",
    "        - The class is frozen, ensuring immutability after instantiation.\n",
    "        - The schema dictionary plays a critical role in ensuring data integrity before further processing.\n",
    "    \"\"\"\n",
    "    root_dir: Path\n",
    "    STATUS_FILE: str\n",
    "    data_path: Path\n",
    "    data_path2: Path\n",
    "    all_schema: dict\n",
    "    table_info: Optional[str]"
   ]
  },
  {
   "cell_type": "markdown",
   "id": "84492ede",
   "metadata": {},
   "source": [
    "```bash\n",
    "data_validation:\n",
    "  root_dir: artifacts/data_validation\n",
    "  data_path: artifacts/data_ingestion/anomaly_detection.csv\n",
    "  STATUS_FILE: artifacts/data_validation/status.txt\n",
    "```"
   ]
  },
  {
   "cell_type": "code",
   "execution_count": 12,
   "id": "80ed244d",
   "metadata": {},
   "outputs": [],
   "source": [
    "# class ConfigurationManager:\n",
    "#     def __init__(self, config_filepath=CONFIG_FILE_PATH, \n",
    "#                  params_filepath=PARAMS_FILE_PATH,\n",
    "#                  schema_filepath = SCHEMA_FILE_PATH):\n",
    "#         self.config = load_yaml(config_filepath)\n",
    "#         self.params = load_yaml(params_filepath)\n",
    "#         self.schema = load_yaml(schema_filepath)\n",
    "        \n",
    "#         create_directories([self.config.artifacts_root])\n",
    "        \n",
    "#     def get_data_validation_config(self) -> DataValidationConfig:\n",
    "#         config = self.config.data_validation\n",
    "#         schema = self.schema['tables'][0]['columns'][0]\n",
    "        \n",
    "#         create_directories([config.root_dir])\n",
    "        \n",
    "#         data_validation_config = DataValidationConfig(\n",
    "#             root_dir = config.root_dir,\n",
    "#             STATUS_FILE= config.STATUS_FILE,\n",
    "#             data_path = config.data_path,\n",
    "#             all_schema = schema\n",
    "#         )\n",
    "#         return data_validation_config"
   ]
  },
  {
   "cell_type": "code",
   "execution_count": 26,
   "id": "7be0adbc",
   "metadata": {},
   "outputs": [
    {
     "name": "stderr",
     "output_type": "stream",
     "text": [
      "2025-08-15 01:20:00 - INFO - [common.py:34] - YAML file C:\\Users\\user\\Desktop\\moniepoint\\schema.yaml loaded successfully.\n"
     ]
    },
    {
     "name": "stdout",
     "output_type": "stream",
     "text": [
      "{'name': 'raw_log', 'type': 'string', 'description': 'Full raw transaction log entry.', 'constraints': {'required': True, 'unique': False, 'allowed_patterns': ['^(?!.*MLAFORMED_LOG).+$'], 'min_length': 1}}\n"
     ]
    }
   ],
   "source": [
    "output = load_yaml(SCHEMA_FILE_PATH)\n",
    "print(output['tables'][0]['columns'][0])"
   ]
  },
  {
   "cell_type": "code",
   "execution_count": 59,
   "id": "7633b8d9",
   "metadata": {},
   "outputs": [],
   "source": [
    "class ConfigurationManager:\n",
    "    def __init__(self, config_filepath=CONFIG_FILE_PATH, \n",
    "                 params_filepath=PARAMS_FILE_PATH,\n",
    "                 schema_filepath = SCHEMA_FILE_PATH):\n",
    "        self.config = load_yaml(config_filepath)\n",
    "        self.params = load_yaml(params_filepath)\n",
    "        self.schema = load_yaml(schema_filepath)\n",
    "        \n",
    "        create_directories([self.config.artifacts_root])\n",
    "        \n",
    "    def get_data_validation_config(self, table_name='transaction_logs') -> DataValidationConfig:\n",
    "        config = self.config.data_validation\n",
    "        \n",
    "        # Get all columns for the specified table\n",
    "        table_schema = None\n",
    "        for table in self.schema['tables']:\n",
    "            if table['name'] == table_name:\n",
    "                table_schema = table\n",
    "                break\n",
    "        \n",
    "        if table_schema is None:\n",
    "            raise ValueError(f\"Table '{table_name}' not found in schema\")\n",
    "        \n",
    "        # Extract column information\n",
    "        columns_info = {}\n",
    "        for column in table_schema['columns']:\n",
    "            columns_info[column['name']] = {\n",
    "                'type': column['type'],\n",
    "                'description': column.get('description', ''),\n",
    "                'constraints': column.get('constraints', column.get('constraints', {}))  # Handle typo\n",
    "            }\n",
    "        \n",
    "        create_directories([config.root_dir])\n",
    "        \n",
    "        data_validation_config = DataValidationConfig(\n",
    "            root_dir = config.root_dir,\n",
    "            STATUS_FILE= config.STATUS_FILE,\n",
    "            data_path = config.data_path,\n",
    "            data_path2 = config.data_path2,\n",
    "            all_schema = columns_info,  # Now contains all columns with their types\n",
    "            table_info = table_schema   # Optional: include full table info\n",
    "        )\n",
    "        return data_validation_config"
   ]
  },
  {
   "cell_type": "code",
   "execution_count": 28,
   "id": "83f40470",
   "metadata": {},
   "outputs": [],
   "source": [
    "import pandas as pd "
   ]
  },
  {
   "cell_type": "code",
   "execution_count": 29,
   "id": "c7dc3acd",
   "metadata": {},
   "outputs": [],
   "source": [
    "class DataValidation:\n",
    "    def __init__(self, config: DataValidationConfig):\n",
    "        self.config = config \n",
    "     \n",
    "    def validate_data(self):\n",
    "        try:\n",
    "            validation_status = None \n",
    "             \n",
    "            data = pd.read_csv(self.config.data_path)\n",
    "            all_columns = list(data.columns)\n",
    "            \n",
    "            all_schema = self.config.all_schema.keys()\n",
    "            \n",
    "            for col in all_columns:\n",
    "               if col not in all_schema:\n",
    "                   validation_status = False  \n",
    "                   with open(self.config.STATUS_FILE, \"w\") as f:\n",
    "                       f.write(f\"Validation status: {validation_status}\")\n",
    "               else:\n",
    "                   validation_status = True  \n",
    "                   with open(self.config.STATUS_FILE, \"w\") as f:\n",
    "                       f.write(f\"Validation status: {validation_status}\")\n",
    "                       \n",
    "            return validation_status\n",
    "        except Exception as e:\n",
    "            raise e"
   ]
  },
  {
   "cell_type": "code",
   "execution_count": 30,
   "id": "3fbc150f",
   "metadata": {},
   "outputs": [
    {
     "name": "stderr",
     "output_type": "stream",
     "text": [
      "2025-08-15 01:23:19 - INFO - [common.py:34] - YAML file C:\\Users\\user\\Desktop\\moniepoint\\config\\config.yaml loaded successfully.\n",
      "2025-08-15 01:23:19 - INFO - [common.py:34] - YAML file C:\\Users\\user\\Desktop\\moniepoint\\params.yaml loaded successfully.\n",
      "2025-08-15 01:23:19 - INFO - [common.py:34] - YAML file C:\\Users\\user\\Desktop\\moniepoint\\schema.yaml loaded successfully.\n",
      "2025-08-15 01:23:19 - INFO - [common.py:88] - Created directory at: artifacts\n",
      "2025-08-15 01:23:19 - INFO - [common.py:88] - Created directory at: artifacts/data_validation\n"
     ]
    }
   ],
   "source": [
    "try:\n",
    "    config = ConfigurationManager()\n",
    "    data_validation_config = config.get_data_validation_config()\n",
    "    data_validation = DataValidation(config=data_validation_config)\n",
    "    data_validation.validate_data()\n",
    "except Exception as e:\n",
    "    raise e"
   ]
  },
  {
   "cell_type": "code",
   "execution_count": 31,
   "id": "0a7a0e6d",
   "metadata": {},
   "outputs": [],
   "source": [
    "class DataValidation:\n",
    "    def __init__(self, config: DataValidationConfig):\n",
    "        self.config = config \n",
    "     \n",
    "    def validate_data(self):\n",
    "        try:\n",
    "            validation_status = None \n",
    "             \n",
    "            data = pd.read_csv(self.config.data_path2)\n",
    "            all_columns = list(data.columns)\n",
    "            \n",
    "            all_schema = self.config.all_schema.keys()\n",
    "            \n",
    "            for col in all_columns:\n",
    "               if col not in all_schema:\n",
    "                   validation_status = False  \n",
    "                   with open(self.config.STATUS_FILE, \"w\") as f:\n",
    "                       f.write(f\"Validation status: {validation_status}\")\n",
    "               else:\n",
    "                   validation_status = True  \n",
    "                   with open(self.config.STATUS_FILE, \"w\") as f:\n",
    "                       f.write(f\"Validation status: {validation_status}\")\n",
    "                       \n",
    "            return validation_status\n",
    "        except Exception as e:\n",
    "            raise e"
   ]
  },
  {
   "cell_type": "code",
   "execution_count": 35,
   "id": "194aa676",
   "metadata": {},
   "outputs": [
    {
     "name": "stderr",
     "output_type": "stream",
     "text": [
      "2025-08-15 01:27:14 - INFO - [common.py:34] - YAML file C:\\Users\\user\\Desktop\\moniepoint\\config\\config.yaml loaded successfully.\n",
      "2025-08-15 01:27:14 - INFO - [common.py:34] - YAML file C:\\Users\\user\\Desktop\\moniepoint\\params.yaml loaded successfully.\n",
      "2025-08-15 01:27:14 - INFO - [common.py:34] - YAML file C:\\Users\\user\\Desktop\\moniepoint\\schema.yaml loaded successfully.\n",
      "2025-08-15 01:27:14 - INFO - [common.py:88] - Created directory at: artifacts\n",
      "2025-08-15 01:27:14 - INFO - [common.py:88] - Created directory at: artifacts/data_validation\n"
     ]
    },
    {
     "name": "stdout",
     "output_type": "stream",
     "text": [
      "{'original_log': {'type': 'string', 'description': 'The original raw log entry before parsing.', 'constraints': Box({'required': True, 'min_length': 1})}, 'datetime': {'type': 'timestamp', 'description': 'Transaction timestamp extracted from original_log.', 'constraints': Box({'required': True})}, 'user_id': {'type': 'integer', 'description': 'User ID extracted from original_log.', 'constraints': Box({'required': True, 'min': 0})}, 'transaction_type': {'type': 'string', 'description': 'Normalized transaction action/type (e.g., withdrawal, deposit, transfer, top-up, payment).', 'constraints': Box({'required': True, 'min_length': 1})}, 'amount': {'type': 'float', 'description': 'Numeric transaction amount.', 'constraints': Box({'required': True, 'min': 0})}, 'currency': {'type': 'string', 'description': 'Currency symbol or code (e.g., £, $, €, or ISO-4217 like GBP, USD, EUR).', 'constraints': Box({'required': False, 'allowed_patterns': ['^[A-Z]{3}$|^[£$€]$']})}, 'location': {'type': 'string', 'description': \"Human-readable location text if available (e.g., 'ATM near Liverpool').\", 'constraints': Box({'required': False})}, 'device': {'type': 'string', 'description': \"Device string if present (e.g., 'Samsung Galaxy S10').\", 'constraints': Box({'required': False})}}\n",
      "dict_keys(['original_log', 'datetime', 'user_id', 'transaction_type', 'amount', 'currency', 'location', 'device'])\n"
     ]
    }
   ],
   "source": [
    "try:\n",
    "    config = ConfigurationManager()\n",
    "    data_validation_config = config.get_data_validation_config(table_name=\"processed_transaction_logs\")\n",
    "    print(data_validation_config.all_schema)\n",
    "    print(data_validation_config.all_schema.keys())\n",
    "    data_validation = DataValidation(config=data_validation_config)\n",
    "    data_validation.validate_data()\n",
    "except Exception as e:\n",
    "    raise e"
   ]
  },
  {
   "cell_type": "code",
   "execution_count": 39,
   "id": "694d4902",
   "metadata": {},
   "outputs": [
    {
     "name": "stderr",
     "output_type": "stream",
     "text": [
      "2025-08-15 01:41:34 - INFO - [common.py:34] - YAML file C:\\Users\\user\\Desktop\\moniepoint\\config\\config.yaml loaded successfully.\n",
      "2025-08-15 01:41:34 - INFO - [common.py:34] - YAML file C:\\Users\\user\\Desktop\\moniepoint\\params.yaml loaded successfully.\n",
      "2025-08-15 01:41:34 - INFO - [common.py:34] - YAML file C:\\Users\\user\\Desktop\\moniepoint\\schema.yaml loaded successfully.\n",
      "2025-08-15 01:41:34 - INFO - [common.py:88] - Created directory at: artifacts\n",
      "2025-08-15 01:41:34 - INFO - [common.py:88] - Created directory at: artifacts/data_validation\n"
     ]
    },
    {
     "name": "stdout",
     "output_type": "stream",
     "text": [
      "['string', 'timestamp', 'integer', 'string', 'float', 'string', 'string', 'string']\n",
      "dict_keys(['original_log', 'datetime', 'user_id', 'transaction_type', 'amount', 'currency', 'location', 'device'])\n"
     ]
    }
   ],
   "source": [
    "try:\n",
    "    config = ConfigurationManager()\n",
    "    data_validation_config = config.get_data_validation_config(table_name=\"processed_transaction_logs\")\n",
    "    # print(data_validation_config.all_schema.values())\n",
    "    print([col['type'] for col in [col for col in data_validation_config.all_schema.values()]])\n",
    "    print(data_validation_config.all_schema.keys())\n",
    "    data_validation = DataValidation(config=data_validation_config)\n",
    "    data_validation.validate_data()\n",
    "except Exception as e:\n",
    "    raise e"
   ]
  },
  {
   "cell_type": "code",
   "execution_count": 40,
   "id": "d8faa9b6",
   "metadata": {},
   "outputs": [],
   "source": [
    "import logging"
   ]
  },
  {
   "cell_type": "code",
   "execution_count": 66,
   "id": "25aa0fe7",
   "metadata": {},
   "outputs": [],
   "source": [
    "class DataValidation:\n",
    "    def __init__(self, config):\n",
    "        self.config = config\n",
    "\n",
    "    def validate_data(self):\n",
    "        try:\n",
    "            data = pd.read_csv(self.config.data_path2)\n",
    "            data['datetime'] = pd.to_datetime(data['datetime'])\n",
    "            all_columns = [col for col in list(data.columns) if col != \"row_id\"] \n",
    "            dtypes_list_str = data.drop(['row_id'], axis=\"columns\").dtypes.astype(str).tolist()\n",
    "            print(f\"Data columns: {all_columns}\")\n",
    "            print(f\"Data dtypes: {dtypes_list_str}\")\n",
    "\n",
    "            schema_columns = list(self.config.all_schema.keys())\n",
    "            print(f\"Schema columns: {schema_columns}\")\n",
    "            \n",
    "            # Fixed: Use self.config instead of data_validation_config\n",
    "            schema_dtypes = [col['type'] for col in self.config.all_schema.values()]\n",
    "            print(f\"Schema dtypes: {schema_dtypes}\")\n",
    "\n",
    "            # Check for exact column match (order + length)\n",
    "            column_name_match = all_columns == schema_columns\n",
    "            # Check if all dtypes match exactly\n",
    "            dtype_match = dtypes_list_str == schema_dtypes\n",
    "\n",
    "            validation_status = column_name_match and dtype_match\n",
    "\n",
    "            if not column_name_match:\n",
    "                logging.warning(f\"Column mismatch:\\nExpected: {schema_columns}\\nFound: {all_columns}\")\n",
    "                print(f\"Column mismatch - Expected: {schema_columns}, Found: {all_columns}\")\n",
    "                \n",
    "            if not dtype_match:\n",
    "                logging.warning(f\"Dtype mismatch:\\nExpected: {schema_dtypes}\\nFound: {dtypes_list_str}\")\n",
    "                print(f\"Dtype mismatch - Expected: {schema_dtypes}, Found: {dtypes_list_str}\")\n",
    "\n",
    "            if validation_status:\n",
    "                print(\"All columns and dtypes match successfully.\")\n",
    "                logging.info(\"Data validation passed successfully\")\n",
    "            else:\n",
    "                print(\"Data validation failed\")\n",
    "                logging.error(\"Data validation failed\")\n",
    "\n",
    "            # Write validation status once\n",
    "            with open(self.config.STATUS_FILE, \"w\") as f:\n",
    "                f.write(f\"Validation status: {validation_status}\")\n",
    "\n",
    "            return validation_status\n",
    "\n",
    "        except Exception as e:\n",
    "            logging.error(f\"Exception during data validation: {str(e)}\")\n",
    "            print(f\"Exception occurred: {str(e)}\")\n",
    "            raise e"
   ]
  },
  {
   "cell_type": "code",
   "execution_count": 67,
   "id": "2383d83a",
   "metadata": {},
   "outputs": [
    {
     "name": "stderr",
     "output_type": "stream",
     "text": [
      "2025-08-15 02:04:48 - INFO - [common.py:34] - YAML file C:\\Users\\user\\Desktop\\moniepoint\\config\\config.yaml loaded successfully.\n",
      "2025-08-15 02:04:48 - INFO - [common.py:34] - YAML file C:\\Users\\user\\Desktop\\moniepoint\\params.yaml loaded successfully.\n",
      "2025-08-15 02:04:48 - INFO - [common.py:34] - YAML file C:\\Users\\user\\Desktop\\moniepoint\\schema.yaml loaded successfully.\n",
      "2025-08-15 02:04:48 - INFO - [common.py:88] - Created directory at: artifacts\n",
      "2025-08-15 02:04:48 - INFO - [common.py:88] - Created directory at: artifacts/data_validation\n",
      "2025-08-15 02:04:48 - INFO - [958848551.py:38] - Data validation passed successfully\n"
     ]
    },
    {
     "name": "stdout",
     "output_type": "stream",
     "text": [
      "Data columns: ['original_log', 'datetime', 'user_id', 'transaction_type', 'amount', 'currency', 'location', 'device']\n",
      "Data dtypes: ['object', 'datetime64[ns]', 'object', 'object', 'float64', 'object', 'object', 'object']\n",
      "Schema columns: ['original_log', 'datetime', 'user_id', 'transaction_type', 'amount', 'currency', 'location', 'device']\n",
      "Schema dtypes: ['object', 'datetime64[ns]', 'object', 'object', 'float64', 'object', 'object', 'object']\n",
      "All columns and dtypes match successfully.\n"
     ]
    }
   ],
   "source": [
    "try:\n",
    "    config = ConfigurationManager()\n",
    "    data_validation_config = config.get_data_validation_config(table_name=\"processed_transaction_logs\")\n",
    "    data_validation = DataValidation(config=data_validation_config)\n",
    "    data_validation.validate_data()\n",
    "except Exception as e:\n",
    "    raise e"
   ]
  },
  {
   "cell_type": "code",
   "execution_count": null,
   "id": "dfd9928d",
   "metadata": {},
   "outputs": [],
   "source": []
  }
 ],
 "metadata": {
  "kernelspec": {
   "display_name": "moniepoint",
   "language": "python",
   "name": "python3"
  },
  "language_info": {
   "codemirror_mode": {
    "name": "ipython",
    "version": 3
   },
   "file_extension": ".py",
   "mimetype": "text/x-python",
   "name": "python",
   "nbconvert_exporter": "python",
   "pygments_lexer": "ipython3",
   "version": "3.11.13"
  }
 },
 "nbformat": 4,
 "nbformat_minor": 5
}
